{
 "cells": [
  {
   "cell_type": "code",
   "execution_count": 27,
   "metadata": {},
   "outputs": [],
   "source": [
    "import requests\n",
    "from bs4 import BeautifulSoup as bs\n",
    "import pandas as pd\n",
    "import re\n",
    "from vaderSentiment.vaderSentiment import SentimentIntensityAnalyzer\n"
   ]
  },
  {
   "cell_type": "code",
   "execution_count": 3,
   "metadata": {},
   "outputs": [],
   "source": [
    "url = \"https://en.wikipedia.org/wiki/RuPaul%27s_Drag_Race_terminology\""
   ]
  },
  {
   "cell_type": "code",
   "execution_count": 4,
   "metadata": {},
   "outputs": [],
   "source": [
    "response = requests.get(url)\n",
    "soup = bs(response.text)"
   ]
  },
  {
   "cell_type": "code",
   "execution_count": 24,
   "metadata": {},
   "outputs": [
    {
     "data": {
      "text/plain": [
       "[{'term': \"beat / beat one's face\",\n",
       "  'definition': \"to blend one's makeup, often with a sponge\"},\n",
       " {'term': 'best Judies / Judies',\n",
       "  'definition': \"a gay man's gay best friend, usually platonically; the name of an All Stars season 4 makeover challenge\"},\n",
       " {'term': 'chanté, you stay / shantay, you stay / shante, you stay',\n",
       "  'definition': 'phrase used by RuPaul to declare then winner of a lip sync'},\n",
       " {'term': 'drag mother / dragmother',\n",
       "  'definition': 'an established drag queen who mentors a new queen, her \"daughter\" how to get started; many queens use the same last name as their drag mother, creating \"family\" lineages, sometimes called \"houses\"'},\n",
       " {'term': 'fish / fishy',\n",
       "  'definition': 'a term used to describe when a drag queen looks like a cis-gendered woman'},\n",
       " {'term': 'gag / gagging',\n",
       "  'definition': 'another term used in place of \"stunned\"'},\n",
       " {'term': 'read / reading',\n",
       "  'definition': 'verbally insulting another queen about their acts, looks, or persona, often in jest; the act of several queens taking turns to share insults is called a \"library\"'},\n",
       " {'term': 'throw shade / throwing shade', 'definition': 'to insult'}]"
      ]
     },
     "execution_count": 24,
     "metadata": {},
     "output_type": "execute_result"
    }
   ],
   "source": [
    "wikitable= soup.find(\"table\", class_=\"wikitable\")\n",
    "wikitable = wikitable.findAll(\"tr\")\n",
    "filtered_wikitable = list(filter( lambda x: len(x.findAll(\"td\"))==2 ,wikitable))\n",
    "words = [ {'term': re.sub(\"\\[[0-9]+\\]\", \"\" ,row.findAll(\"td\")[0].text), 'definition': re.sub(\"\\[[0-9]+\\]\",\"\",row.findAll(\"td\")[1].text.strip())} for row in filtered_wikitable]\n",
    "words =list(filter( lambda x: x['definition']!=\"\", words))\n",
    "wordsOk = list(filter(lambda x: not \"/\" in x['term'] , words))\n",
    "wordsOk\n",
    "wordsToSplit = list(filter(lambda x: \"/\" in x['term'] , words))\n",
    "wordsToSplit"
   ]
  },
  {
   "cell_type": "code",
   "execution_count": 31,
   "metadata": {},
   "outputs": [
    {
     "data": {
      "text/plain": [
       "[{'term': 'apolo-lie',\n",
       "  'definition': \"a fake apology, coined by Widow Von'Du (season 12)\"},\n",
       " {'term': 'bam',\n",
       "  'definition': 'a joyous expression used by Alexis Mateo (season 3; All Stars seasons 1 and 5), originally for season 3\\'s \"Life, Liberty & the Pursuit of Style\" maxi challenge and later repeated by RuPaul'},\n",
       " {'term': 'big girl',\n",
       "  'definition': 'a drag queen who wears plus-size clothing'},\n",
       " {'term': 'busted', 'definition': 'being unpolished or messy'},\n",
       " {'term': 'charisma, uniqueness, nerve, and talent',\n",
       "  'definition': 'euphemism for C.U.N.T, shown by the first letter of each word'},\n",
       " {'term': 'chicken cutlets',\n",
       "  'definition': 'gel inserts used to create cleavage'},\n",
       " {'term': 'choices',\n",
       "  'definition': 'a catchphrase used by Tatianna (season 2; All Stars season 2)'},\n",
       " {'term': 'condragulations',\n",
       "  'definition': 'drag wordplay for the word \"congratulations\"'},\n",
       " {'term': 'cooking', 'definition': 'allowing time for face powder to set'},\n",
       " {'term': 'country realness',\n",
       "  'definition': '\"authentic Southern style\" and a season 2 runway category'},\n",
       " {'term': 'cucu',\n",
       "  'definition': \"Cynthia Lee Fontaine's (seasons 8 and 9) name for the buttocks\"},\n",
       " {'term': 'death drop',\n",
       "  'definition': 'dance move where a queen dramatically falls back into a stroke pose, usually at the end of a lipsync or during a beat drop'},\n",
       " {'term': 'eat it',\n",
       "  'definition': 'a \"confident expression\" used by Latrice Royale (season 4; All Stars seasons 1 and 4) \"when she is feeling fabulous... It essentially means that those around you must accept the fact that you\\'re that great.\"'},\n",
       " {'term': 'echa pa lante',\n",
       "  'definition': 'a catchphrase translating to \"go for it\" in Spanish, used by Yara Sofia (season 3; All Stars season 1)'},\n",
       " {'term': 'family',\n",
       "  'definition': 'a group of queens who have been mentored by a drag \"mother\"; the group may also be referred to as a \"house\"'},\n",
       " {'term': 'halleloo',\n",
       "  'definition': 'an expression of joy or praise used by Shangela (seasons 2 and 3; All Stars season 3) as another way of saying \"hallelujah\"; the phrase is \"impossible to forget\" and \"without question, the first legitimate catch phrase that came out of this franchise\", according to Screen Rant\\'s Bernardo Sim'},\n",
       " {'term': 'heather',\n",
       "  'definition': '\"a conventionally pretty drag queen and member of the \\'popular\\' clique\", from the film Heathers'},\n",
       " {'term': 'henny',\n",
       "  'definition': 'catchphrase popularized by Stacy Layne Matthews (season 3), who returned for the All Stars season 4 episode \"Super Girl Groups, Henny!\"; outside Drag Race, the term is sometimes used as another way to pronounce \"honey\"'},\n",
       " {'term': 'hieeee',\n",
       "  'definition': \"catchphrase popularized by Alaska Thunderfuck (season 5; All Stars season 2), sometimes said high-pitched; later used by other contestants, as well as RuPaul and Michelle Visage on most episodes of the podcast What's the Tea?\"},\n",
       " {'term': 'house',\n",
       "  'definition': 'a group of drag queens who were all mentored by the same \"mother\"; the group may also be referred to as a \"family\"\\nSee \"drag mother, family\"'},\n",
       " {'term': 'interior illusions lounge',\n",
       "  'definition': 'a backstage room where contestants wait during judge deliberations'},\n",
       " {'term': 'kai kai',\n",
       "  'definition': 'when drag queens are in a sexual or romantic relationship'},\n",
       " {'term': 'ladyboy',\n",
       "  'definition': 'a synonym for a drag queen, and a song by RuPaul performed by season 2 contestants'},\n",
       " {'term': 'leotarded', 'definition': 'wearing a bodysuit'},\n",
       " {'term': 'library',\n",
       "  'definition': 'name of a group act in which queens verbally insult (or \"read\") each other about their acts, looks or personas, usually meant in jest'},\n",
       " {'term': 'lip sync for your life',\n",
       "  'definition': 'when the bottom queens must lip sync to a song in order to keep themselves from being eliminated'},\n",
       " {'term': 'Miss Vanjie',\n",
       "  'definition': 'a catchphrase made \"instantly famous\" by Vanessa Vanjie Mateo (seasons 10 and 11) when she repeated the phrase three times while walking backwards during her season 10 sashay away; according to Screen Rant, the catchphrase is \"one of the most memorable\" in the show\\'s history and how some fans refer to Vanessa Vanjie Mateo'},\n",
       " {'term': 'party',\n",
       "  'definition': 'Adore Delano\\'s (season 6; All Stars season 2) catchphrase used \"as a reaction to something that was said, and can mean a myriad of things depending on the context\"'},\n",
       " {'term': 'Pit Crew',\n",
       "  'definition': 'ensemble of male models, often wearing revealing clothing (not in drag), who appear on camera for various segments'},\n",
       " {'term': 'purse first',\n",
       "  'definition': 'catchphrase used by Bob the Drag Queen (season 8), who later a released a song by this title'},\n",
       " {'term': 'sashay away',\n",
       "  'definition': 'phrase used by RuPaul when eliminating a bottom queen'},\n",
       " {'term': 'serve', 'definition': 'presenting a specific concept or idea'},\n",
       " {'term': 'sexcretary', 'definition': 'a \"sexy-looking\" secretary'},\n",
       " {'term': 'shade', 'definition': 'an insult or negative comment'},\n",
       " {'term': 'she owns everything',\n",
       "  'definition': 'to be \"the one true queen\" or \"the most fabulous\", according to Marie Claire'},\n",
       " {'term': 'sickening',\n",
       "  'definition': 'used to refer to a queen who is exceptionally “amazing” or “flawless”'},\n",
       " {'term': 'Snatch Game',\n",
       "  'definition': 'a main challenge, where contestants showcase their best celebrity impersonations in a game show setting; Snatch Game is a parody of the classic television show Match Game (1962–1991), where contestants attempted to match celebrities\\' answers to \"fill-in-the-blank\" questions'},\n",
       " {'term': 'snatched',\n",
       "  'definition': 'small-waisted, or having a visually small waist relative to upper and lower body'},\n",
       " {'term': 'spilling the tea', 'definition': 'sharing gossip'},\n",
       " {'term': 'tuck',\n",
       "  'definition': \"noun: the illusion of a feminine crotch line; verb: the act of positioning one's penis and testicles back and up into the body to create a feminine silhouette of the crotch area\"},\n",
       " {'term': 'two piece and a biscuit',\n",
       "  'definition': 'a Popeyes meal option and Mystique\\'s (season 2) \"secret to success\"'},\n",
       " {'term': 'who-ho',\n",
       "  'definition': 'a \"ho\" dressed like a Who from Dr. Seuss\\' fictional town of Whoville'},\n",
       " {'term': 'beat', 'definition': \"to blend one's makeup, often with a sponge\"},\n",
       " {'term': \"beat one's face\",\n",
       "  'definition': \"to blend one's makeup, often with a sponge\"},\n",
       " {'term': 'best Judies',\n",
       "  'definition': \"a gay man's gay best friend, usually platonically; the name of an All Stars season 4 makeover challenge\"},\n",
       " {'term': 'Judies',\n",
       "  'definition': \"a gay man's gay best friend, usually platonically; the name of an All Stars season 4 makeover challenge\"},\n",
       " {'term': 'chanté, you stay',\n",
       "  'definition': 'phrase used by RuPaul to declare then winner of a lip sync'},\n",
       " {'term': 'shantay, you stay',\n",
       "  'definition': 'phrase used by RuPaul to declare then winner of a lip sync'},\n",
       " {'term': 'shante, you stay',\n",
       "  'definition': 'phrase used by RuPaul to declare then winner of a lip sync'},\n",
       " {'term': 'drag mother',\n",
       "  'definition': 'an established drag queen who mentors a new queen, her \"daughter\" how to get started; many queens use the same last name as their drag mother, creating \"family\" lineages, sometimes called \"houses\"'},\n",
       " {'term': 'dragmother',\n",
       "  'definition': 'an established drag queen who mentors a new queen, her \"daughter\" how to get started; many queens use the same last name as their drag mother, creating \"family\" lineages, sometimes called \"houses\"'},\n",
       " {'term': 'fish',\n",
       "  'definition': 'a term used to describe when a drag queen looks like a cis-gendered woman'},\n",
       " {'term': 'fishy',\n",
       "  'definition': 'a term used to describe when a drag queen looks like a cis-gendered woman'},\n",
       " {'term': 'gag', 'definition': 'another term used in place of \"stunned\"'},\n",
       " {'term': 'gagging', 'definition': 'another term used in place of \"stunned\"'},\n",
       " {'term': 'read',\n",
       "  'definition': 'verbally insulting another queen about their acts, looks, or persona, often in jest; the act of several queens taking turns to share insults is called a \"library\"'},\n",
       " {'term': 'reading',\n",
       "  'definition': 'verbally insulting another queen about their acts, looks, or persona, often in jest; the act of several queens taking turns to share insults is called a \"library\"'},\n",
       " {'term': 'throw shade', 'definition': 'to insult'},\n",
       " {'term': 'throwing shade', 'definition': 'to insult'}]"
      ]
     },
     "execution_count": 31,
     "metadata": {},
     "output_type": "execute_result"
    }
   ],
   "source": [
    "newWordsOk = []\n",
    "for word in wordsToSplit:\n",
    "    terms = re.findall(\"([^/]+)\", word[\"term\"])\n",
    "    newWordsOk += [ {'term': term.strip(), 'definition': word['definition']}  for term in terms]\n",
    "words = wordsOk + newWordsOk \n",
    "words"
   ]
  },
  {
   "cell_type": "code",
   "execution_count": 28,
   "metadata": {},
   "outputs": [],
   "source": [
    "analyzer = SentimentIntensityAnalyzer()"
   ]
  },
  {
   "cell_type": "code",
   "execution_count": 40,
   "metadata": {},
   "outputs": [
    {
     "name": "stdin",
     "output_type": "stream",
     "text": [
      "charisma, uniqueness, nerve, and talent 1\n",
      "choices -0.5\n",
      "cooking 0.0\n",
      "country realness 0.0\n",
      "cucu 0.3\n",
      "echa pa lante 0.0\n",
      "interior illusions lounge -0.8\n",
      "leotarded 0.0\n",
      "lip sync for your life -0.2\n",
      "sashay away -0.7\n",
      "serve 1\n",
      "sexcretary 0.0\n",
      "sickening 1.0\n",
      "beat 0.5\n",
      "beat one's face .1\n"
     ]
    }
   ],
   "source": [
    "addToLexiton =  { word['term']: analyzer.polarity_scores(word[\"definition\"])['compound'] for word in words }\n",
    "newAddToLexiton = {}\n",
    "for key in addToLexiton:\n",
    "    if addToLexiton[key] == 0.0:\n",
    "        newAddToLexiton[key]=input(key)\n",
    "    else:\n",
    "        newAddToLexiton[key]=addToLexiton[key]"
   ]
  },
  {
   "cell_type": "code",
   "execution_count": 45,
   "metadata": {},
   "outputs": [],
   "source": [
    "import json\n",
    "with open('Data/addToLexiton.json', 'w') as f:\n",
    "    json.dump(newAddToLexiton, f)"
   ]
  }
 ],
 "metadata": {
  "kernelspec": {
   "display_name": "Python 3",
   "language": "python",
   "name": "python3"
  },
  "language_info": {
   "codemirror_mode": {
    "name": "ipython",
    "version": 3
   },
   "file_extension": ".py",
   "mimetype": "text/x-python",
   "name": "python",
   "nbconvert_exporter": "python",
   "pygments_lexer": "ipython3",
   "version": "3.7.4"
  }
 },
 "nbformat": 4,
 "nbformat_minor": 4
}
