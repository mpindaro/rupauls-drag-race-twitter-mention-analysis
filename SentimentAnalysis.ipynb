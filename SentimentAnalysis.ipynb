{
 "cells": [
  {
   "cell_type": "code",
   "execution_count": 1,
   "metadata": {},
   "outputs": [],
   "source": [
    "import pandas as pd\n",
    "import json\n",
    "from vaderSentiment.vaderSentiment import SentimentIntensityAnalyzer\n",
    "from dragsUtility import * \n",
    "import spacy\n",
    "import statistics\n",
    "import numpy as np\n",
    "import seaborn as sns\n",
    "import matplotlib.pyplot as plt"
   ]
  },
  {
   "cell_type": "code",
   "execution_count": 2,
   "metadata": {},
   "outputs": [
    {
     "data": {
      "text/plain": [
       "118234"
      ]
     },
     "execution_count": 2,
     "metadata": {},
     "output_type": "execute_result"
    }
   ],
   "source": [
    "all_tweets = []\n",
    "\n",
    "with open('Data/SingleEpisodes/rutweetE09.json') as json_file:\n",
    "    all_tweets = json.load(json_file)\n",
    "\n",
    "with open('Data/SingleEpisodes/rutweetE10.json') as json_file:\n",
    "    all_tweets += json.load(json_file)\n",
    "\n",
    "with open('Data/SingleEpisodes/rutweetE11.json') as json_file:\n",
    "    all_tweets += json.load(json_file)\n",
    "\n",
    "with open('Data/SingleEpisodes/rutweetE12.json') as json_file:\n",
    "    all_tweets += json.load(json_file)\n",
    "\n",
    "with open('Data/SingleEpisodes/rutweetE13.json') as json_file:\n",
    "    all_tweets += json.load(json_file)\n",
    "with open('Data/SingleEpisodes/rutweetE16.json') as json_file:\n",
    "    all_tweets += json.load(json_file)\n",
    "len(all_tweets)"
   ]
  },
  {
   "cell_type": "code",
   "execution_count": 3,
   "metadata": {},
   "outputs": [],
   "source": [
    "def isMentionedThatDrag(matching_rules, drag):\n",
    "    for rule in matching_rules:\n",
    "        if rule[\"tag\"] == drag:\n",
    "            return True\n",
    "    return False"
   ]
  },
  {
   "cell_type": "code",
   "execution_count": 4,
   "metadata": {},
   "outputs": [],
   "source": [
    "dUtility = DragsUtility()"
   ]
  },
  {
   "cell_type": "code",
   "execution_count": 5,
   "metadata": {},
   "outputs": [],
   "source": [
    "with open('Data/addToLexiton.json') as json_file:\n",
    "    addToLexiton = json.load(json_file)\n",
    "addToLexiton = {key:  (((value - (-1))/ (1 - (-1))) * (5 - (-5))) + -5 for (key,value) in addToLexiton.items()}\n",
    "\n",
    "analyzer = SentimentIntensityAnalyzer()\n",
    "analyzer.lexicon.update(addToLexiton)"
   ]
  },
  {
   "cell_type": "code",
   "execution_count": 6,
   "metadata": {},
   "outputs": [
    {
     "data": {
      "text/plain": [
       "['@the_symonee',\n",
       " '@TheKandyMuse',\n",
       " '@gottmik',\n",
       " '@omgheyrose',\n",
       " '@TheOliviaLux',\n",
       " '@QueenUtica',\n",
       " '@TheTinaBurner',\n",
       " '@denalifox',\n",
       " '@theelliottqueen',\n",
       " '@MissLaLaRi',\n",
       " '@TamishaIman1',\n",
       " '@joeyjayisgay',\n",
       " '@KahmoraHall']"
      ]
     },
     "execution_count": 6,
     "metadata": {},
     "output_type": "execute_result"
    }
   ],
   "source": [
    "drags = [ \"@\" + dUtility.getInfoAboutQueenByName(dragName)[\"Twitter_handler\"] for dragName in dUtility.getRealRanking()]\n",
    "drags"
   ]
  },
  {
   "cell_type": "code",
   "execution_count": 7,
   "metadata": {},
   "outputs": [
    {
     "name": "stdout",
     "output_type": "stream",
     "text": [
      "1441\n"
     ]
    },
    {
     "data": {
      "text/plain": [
       "[('@the_symonee', 15545),\n",
       " ('@TheKandyMuse', 9155),\n",
       " ('@gottmik', 10046),\n",
       " ('@omgheyrose', 5188),\n",
       " ('@TheOliviaLux', 1441),\n",
       " ('@QueenUtica', 2652),\n",
       " ('@TheTinaBurner', 717),\n",
       " ('@denalifox', 7600),\n",
       " ('@theelliottqueen', 57),\n",
       " ('@MissLaLaRi', 3295),\n",
       " ('@TamishaIman1', 112),\n",
       " ('@joeyjayisgay', 160),\n",
       " ('@KahmoraHall', 277)]"
      ]
     },
     "execution_count": 7,
     "metadata": {},
     "output_type": "execute_result"
    }
   ],
   "source": [
    "tweets = {}\n",
    "for drag in drags:\n",
    "    tweets[drag] = list(filter(lambda x: \\\n",
    "        isMentionedThatDrag(x[\"matching_rules\"], drag) , all_tweets)) \n",
    "print(len(tweets[\"@TheOliviaLux\"]))\n",
    "[(drag_tweet, len(tweets[drag_tweet])) for drag_tweet in tweets.keys()]\n"
   ]
  },
  {
   "cell_type": "code",
   "execution_count": 8,
   "metadata": {},
   "outputs": [
    {
     "name": "stdout",
     "output_type": "stream",
     "text": [
      "@the_symonee: Score: 0.6289\n",
      "@TheKandyMuse: Score: 0.5859\n",
      "@gottmik: Score: 0.5871\n",
      "@omgheyrose: Score: 0.792975\n",
      "@TheOliviaLux: Score: 0.7125\n",
      "@QueenUtica: Score: 0.524\n",
      "@TheTinaBurner: Score: 0.2023\n",
      "@denalifox: Score: 0.6705\n",
      "@theelliottqueen: Score: 0.4588\n",
      "@MissLaLaRi: Score: 0.71885\n",
      "@TamishaIman1: Score: 0.264\n",
      "@joeyjayisgay: Score: 0.4019\n",
      "@KahmoraHall: Score: 0.7249\n"
     ]
    }
   ],
   "source": [
    "analyzer = SentimentIntensityAnalyzer()\n",
    "compound_scores=[]\n",
    "drags_compound_scores = []\n",
    "for drag in drags:\n",
    "    for tweet in tweets[drag]:\n",
    "        vs = analyzer.polarity_scores(tweet[\"data\"][\"text\"])\n",
    "        #print(\"{:-<65} {}\".format(tweet[\"data\"][\"text\"], str(vs)))\n",
    "        compound_scores.append(vs['compound'])\n",
    "    print(f\"{drag}: Score: {np.percentile(compound_scores, 75)}\")\n",
    "    drags_compound_scores.append({\"drag\": drag, 'likeability': np.percentile(compound_scores, 75)})\n",
    "    compound_scores=[]"
   ]
  },
  {
   "cell_type": "code",
   "execution_count": 9,
   "metadata": {},
   "outputs": [
    {
     "data": {
      "text/plain": [
       "[{'drag': '@omgheyrose', 'likeability': 0.792975},\n",
       " {'drag': '@KahmoraHall', 'likeability': 0.7249},\n",
       " {'drag': '@MissLaLaRi', 'likeability': 0.71885},\n",
       " {'drag': '@TheOliviaLux', 'likeability': 0.7125},\n",
       " {'drag': '@denalifox', 'likeability': 0.6705},\n",
       " {'drag': '@the_symonee', 'likeability': 0.6289},\n",
       " {'drag': '@gottmik', 'likeability': 0.5871},\n",
       " {'drag': '@TheKandyMuse', 'likeability': 0.5859},\n",
       " {'drag': '@QueenUtica', 'likeability': 0.524},\n",
       " {'drag': '@theelliottqueen', 'likeability': 0.4588},\n",
       " {'drag': '@joeyjayisgay', 'likeability': 0.4019},\n",
       " {'drag': '@TamishaIman1', 'likeability': 0.264},\n",
       " {'drag': '@TheTinaBurner', 'likeability': 0.2023}]"
      ]
     },
     "execution_count": 9,
     "metadata": {},
     "output_type": "execute_result"
    }
   ],
   "source": [
    "rank_by_likeability = sorted(drags_compound_scores, key=lambda k: k['likeability'], reverse = True) \n",
    "rank_by_likeability"
   ]
  },
  {
   "cell_type": "code",
   "execution_count": 10,
   "metadata": {},
   "outputs": [
    {
     "data": {
      "text/html": [
       "<div>\n",
       "<style scoped>\n",
       "    .dataframe tbody tr th:only-of-type {\n",
       "        vertical-align: middle;\n",
       "    }\n",
       "\n",
       "    .dataframe tbody tr th {\n",
       "        vertical-align: top;\n",
       "    }\n",
       "\n",
       "    .dataframe thead th {\n",
       "        text-align: right;\n",
       "    }\n",
       "</style>\n",
       "<table border=\"1\" class=\"dataframe\">\n",
       "  <thead>\n",
       "    <tr style=\"text-align: right;\">\n",
       "      <th></th>\n",
       "      <th>drag</th>\n",
       "      <th>likeability</th>\n",
       "    </tr>\n",
       "  </thead>\n",
       "  <tbody>\n",
       "    <tr>\n",
       "      <th>0</th>\n",
       "      <td>@omgheyrose</td>\n",
       "      <td>0.792975</td>\n",
       "    </tr>\n",
       "    <tr>\n",
       "      <th>1</th>\n",
       "      <td>@KahmoraHall</td>\n",
       "      <td>0.724900</td>\n",
       "    </tr>\n",
       "    <tr>\n",
       "      <th>2</th>\n",
       "      <td>@MissLaLaRi</td>\n",
       "      <td>0.718850</td>\n",
       "    </tr>\n",
       "    <tr>\n",
       "      <th>3</th>\n",
       "      <td>@TheOliviaLux</td>\n",
       "      <td>0.712500</td>\n",
       "    </tr>\n",
       "    <tr>\n",
       "      <th>4</th>\n",
       "      <td>@denalifox</td>\n",
       "      <td>0.670500</td>\n",
       "    </tr>\n",
       "    <tr>\n",
       "      <th>5</th>\n",
       "      <td>@the_symonee</td>\n",
       "      <td>0.628900</td>\n",
       "    </tr>\n",
       "    <tr>\n",
       "      <th>6</th>\n",
       "      <td>@gottmik</td>\n",
       "      <td>0.587100</td>\n",
       "    </tr>\n",
       "    <tr>\n",
       "      <th>7</th>\n",
       "      <td>@TheKandyMuse</td>\n",
       "      <td>0.585900</td>\n",
       "    </tr>\n",
       "    <tr>\n",
       "      <th>8</th>\n",
       "      <td>@QueenUtica</td>\n",
       "      <td>0.524000</td>\n",
       "    </tr>\n",
       "    <tr>\n",
       "      <th>9</th>\n",
       "      <td>@theelliottqueen</td>\n",
       "      <td>0.458800</td>\n",
       "    </tr>\n",
       "    <tr>\n",
       "      <th>10</th>\n",
       "      <td>@joeyjayisgay</td>\n",
       "      <td>0.401900</td>\n",
       "    </tr>\n",
       "    <tr>\n",
       "      <th>11</th>\n",
       "      <td>@TamishaIman1</td>\n",
       "      <td>0.264000</td>\n",
       "    </tr>\n",
       "    <tr>\n",
       "      <th>12</th>\n",
       "      <td>@TheTinaBurner</td>\n",
       "      <td>0.202300</td>\n",
       "    </tr>\n",
       "  </tbody>\n",
       "</table>\n",
       "</div>"
      ],
      "text/plain": [
       "                drag  likeability\n",
       "0        @omgheyrose     0.792975\n",
       "1       @KahmoraHall     0.724900\n",
       "2        @MissLaLaRi     0.718850\n",
       "3      @TheOliviaLux     0.712500\n",
       "4         @denalifox     0.670500\n",
       "5       @the_symonee     0.628900\n",
       "6           @gottmik     0.587100\n",
       "7      @TheKandyMuse     0.585900\n",
       "8        @QueenUtica     0.524000\n",
       "9   @theelliottqueen     0.458800\n",
       "10     @joeyjayisgay     0.401900\n",
       "11     @TamishaIman1     0.264000\n",
       "12    @TheTinaBurner     0.202300"
      ]
     },
     "execution_count": 10,
     "metadata": {},
     "output_type": "execute_result"
    }
   ],
   "source": [
    "df = pd.DataFrame(rank_by_likeability)\n",
    "df"
   ]
  },
  {
   "cell_type": "code",
   "execution_count": 11,
   "metadata": {},
   "outputs": [
    {
     "data": {
      "image/png": "[encoded data removed]",
      "text/plain": [
       "<Figure size 720x504 with 1 Axes>"
      ]
     },
     "metadata": {
      "needs_background": "light"
     },
     "output_type": "display_data"
    }
   ],
   "source": [
    "f, ax = plt.subplots(figsize=(10, 7))\n",
    "\n",
    "sns.barplot(x=\"likeability\", y=\"drag\", data=df, palette = \"BuPu\")\n",
    "plt.xlabel(\"Contestant\", fontsize= 15)\n",
    "plt.ylabel(\"Likeability\", fontsize= 15)\n",
    "plt.savefig(\"Images/Likeability.png\", dpi=1200, bbox_inches='tight')\n",
    "plt.show()"
   ]
  }
 ],
 "metadata": {
  "kernelspec": {
   "display_name": "Python 3",
   "language": "python",
   "name": "python3"
  },
  "language_info": {
   "codemirror_mode": {
    "name": "ipython",
    "version": 3
   },
   "file_extension": ".py",
   "mimetype": "text/x-python",
   "name": "python",
   "nbconvert_exporter": "python",
   "pygments_lexer": "ipython3",
   "version": "3.7.4"
  }
 },
 "nbformat": 4,
 "nbformat_minor": 4
}
