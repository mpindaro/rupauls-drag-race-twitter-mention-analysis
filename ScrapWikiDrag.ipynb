{
 "cells": [
  {
   "cell_type": "code",
   "execution_count": 3,
   "metadata": {},
   "outputs": [],
   "source": [
    "base_url=\"https://rupaulsdragrace.fandom.com\"\n",
    "season13_url=\"/wiki/RuPaul%27s_Drag_Race_(Season_13)\"\n"
   ]
  },
  {
   "cell_type": "code",
   "execution_count": 31,
   "metadata": {},
   "outputs": [],
   "source": [
    "import requests\n",
    "from bs4 import BeautifulSoup as bs\n",
    "import pandas as pd\n",
    "import re"
   ]
  },
  {
   "cell_type": "code",
   "execution_count": 4,
   "metadata": {},
   "outputs": [
    {
     "data": {
      "text/plain": [
       "<Response [200]>"
      ]
     },
     "execution_count": 4,
     "metadata": {},
     "output_type": "execute_result"
    }
   ],
   "source": [
    "response = requests.get(base_url+season13_url)\n",
    "response"
   ]
  },
  {
   "cell_type": "code",
   "execution_count": 5,
   "metadata": {},
   "outputs": [],
   "source": [
    "drag_links=[]"
   ]
  },
  {
   "cell_type": "code",
   "execution_count": 6,
   "metadata": {},
   "outputs": [],
   "source": [
    "soup=bs(response.text)"
   ]
  },
  {
   "cell_type": "code",
   "execution_count": 11,
   "metadata": {},
   "outputs": [],
   "source": [
    "img = soup.find_all(attrs={\"data-image-key\": re.compile(\"(\\w+)QueenMug.jpg\")})\n",
    "hrefs = [drag.parent for drag in img]"
   ]
  },
  {
   "cell_type": "code",
   "execution_count": 14,
   "metadata": {},
   "outputs": [
    {
     "data": {
      "text/plain": [
       "['/wiki/Denali',\n",
       " '/wiki/Elliott_with_2_Ts',\n",
       " '/wiki/Gottmik',\n",
       " '/wiki/Joey_Jay',\n",
       " '/wiki/Kahmora_Hall',\n",
       " '/wiki/Kandy_Muse',\n",
       " '/wiki/LaLa_Ri',\n",
       " '/wiki/Olivia_Lux',\n",
       " '/wiki/Ros%C3%A9',\n",
       " '/wiki/Symone',\n",
       " '/wiki/Tamisha_Iman',\n",
       " '/wiki/Tina_Burner',\n",
       " '/wiki/Utica_Queen']"
      ]
     },
     "execution_count": 14,
     "metadata": {},
     "output_type": "execute_result"
    }
   ],
   "source": [
    "drag_links= [drag[\"href\"] for drag in hrefs]\n",
    "drag_links"
   ]
  },
  {
   "cell_type": "code",
   "execution_count": 47,
   "metadata": {},
   "outputs": [
    {
     "name": "stdout",
     "output_type": "stream",
     "text": [
      "denalifox\n"
     ]
    },
    {
     "name": "stdin",
     "output_type": "stream",
     "text": [
      " 1151340112955019265\n"
     ]
    },
    {
     "name": "stdout",
     "output_type": "stream",
     "text": [
      "theelliottqueen\n"
     ]
    },
    {
     "name": "stdin",
     "output_type": "stream",
     "text": [
      " 2274214254\n"
     ]
    },
    {
     "name": "stdout",
     "output_type": "stream",
     "text": [
      "gottmik\n"
     ]
    },
    {
     "name": "stdin",
     "output_type": "stream",
     "text": [
      " 1331018240470917120\n"
     ]
    },
    {
     "name": "stdout",
     "output_type": "stream",
     "text": [
      "joeyjayisgay\n"
     ]
    },
    {
     "name": "stdin",
     "output_type": "stream",
     "text": [
      " 26068447\n"
     ]
    },
    {
     "name": "stdout",
     "output_type": "stream",
     "text": [
      "KahmoraHall\n"
     ]
    },
    {
     "name": "stdin",
     "output_type": "stream",
     "text": [
      " 635906376\n"
     ]
    },
    {
     "name": "stdout",
     "output_type": "stream",
     "text": [
      "TheKandyMuse\n"
     ]
    },
    {
     "name": "stdin",
     "output_type": "stream",
     "text": [
      " 89282580\n"
     ]
    },
    {
     "name": "stdout",
     "output_type": "stream",
     "text": [
      "misslalari\n"
     ]
    },
    {
     "name": "stdin",
     "output_type": "stream",
     "text": [
      " 1198827021104750592\n"
     ]
    },
    {
     "name": "stdout",
     "output_type": "stream",
     "text": [
      "TheOliviaLux\n"
     ]
    },
    {
     "name": "stdin",
     "output_type": "stream",
     "text": [
      " 1304051396942139397\n"
     ]
    },
    {
     "name": "stdout",
     "output_type": "stream",
     "text": [
      "omgheyrose\n"
     ]
    },
    {
     "name": "stdin",
     "output_type": "stream",
     "text": [
      " 967299284235440128\n"
     ]
    },
    {
     "name": "stdout",
     "output_type": "stream",
     "text": [
      "the_symonee\n"
     ]
    },
    {
     "name": "stdin",
     "output_type": "stream",
     "text": [
      " 1218767468954411011\n"
     ]
    },
    {
     "name": "stdout",
     "output_type": "stream",
     "text": [
      "TamishaIman1\n"
     ]
    },
    {
     "name": "stdin",
     "output_type": "stream",
     "text": [
      " 951228252747689991\n"
     ]
    },
    {
     "name": "stdout",
     "output_type": "stream",
     "text": [
      "thetinaburner\n"
     ]
    },
    {
     "name": "stdin",
     "output_type": "stream",
     "text": [
      " 874256563\n"
     ]
    },
    {
     "name": "stdout",
     "output_type": "stream",
     "text": [
      "QueenUtica\n"
     ]
    },
    {
     "name": "stdin",
     "output_type": "stream",
     "text": [
      " 1105838381622329344\n"
     ]
    }
   ],
   "source": [
    "linkdenali = \"\"\n",
    "drags=[]\n",
    "for drag_link in drag_links:\n",
    "    temp_soup = bs(requests.get(base_url + drag_link).text)\n",
    "    \n",
    "    temp_name=(temp_soup.find(attrs={\"data-source\": \"Drag Name\"}).find(\"div\").text)\n",
    "    temp_age=(temp_soup.find_all(attrs={\"data-source\": \"birth year\"})[1].find(\"div\").text)\n",
    "    try:\n",
    "        temp_city=(temp_soup.find(attrs={\"data-source\": \"Current City\"}).find(\"div\").text)\n",
    "    except AttributeError:\n",
    "        temp_city=\"Unknown\"\n",
    "    temp_place=((temp_soup.find(attrs={\"data-source\": \"Place\"}).find(\"div\").text)[0])\n",
    "    temp_eliminated=temp_soup.find(attrs={\"data-source\": \"Eliminated\"}).find(\"div\").text\n",
    "    temp_wins=((temp_soup.find(attrs={\"data-source\": \"Challenge Wins\"}).find(\"div\").text)[0])\n",
    "    temp_bottoms=((temp_soup.find_all(\"tr\")[3].find(\"td\").text)[0])\n",
    "    temp_tw_handler=(re.match(\"https://twitter.com/(\\w+)\" ,\\\n",
    "        temp_soup.find(attrs={\"href\": re.compile(\"https://twitter.com/(\\w+)\")})[\"href\"]).group(1))\n",
    "    print(temp_tw_handler)\n",
    "    temp_id=input()\n",
    "    drags.append((temp_id, temp_name, temp_tw_handler, temp_age, temp_city, temp_place, temp_eliminated, temp_wins, temp_bottoms))"
   ]
  },
  {
   "cell_type": "code",
   "execution_count": 1,
   "metadata": {},
   "outputs": [
    {
     "ename": "NameError",
     "evalue": "name 'pd' is not defined",
     "output_type": "error",
     "traceback": [
      "\u001b[0;31m---------------------------------------------------------------------------\u001b[0m",
      "\u001b[0;31mNameError\u001b[0m                                 Traceback (most recent call last)",
      "\u001b[0;32m<ipython-input-1-a4cbda9e186d>\u001b[0m in \u001b[0;36m<module>\u001b[0;34m\u001b[0m\n\u001b[0;32m----> 1\u001b[0;31m \u001b[0mdf\u001b[0m \u001b[0;34m=\u001b[0m \u001b[0mpd\u001b[0m\u001b[0;34m.\u001b[0m\u001b[0mDataFrame\u001b[0m\u001b[0;34m(\u001b[0m\u001b[0mdrags\u001b[0m\u001b[0;34m,\u001b[0m \u001b[0mcolumns\u001b[0m \u001b[0;34m=\u001b[0m \u001b[0;34m[\u001b[0m\u001b[0;34m\"ID\"\u001b[0m\u001b[0;34m,\u001b[0m \u001b[0;34m\"Name\"\u001b[0m\u001b[0;34m,\u001b[0m \u001b[0;34m\"Twitter_handler\"\u001b[0m\u001b[0;34m,\u001b[0m \u001b[0;34m\"Age\"\u001b[0m\u001b[0;34m,\u001b[0m \u001b[0;34m\"City\"\u001b[0m\u001b[0;34m,\u001b[0m \u001b[0;34m\"Place\"\u001b[0m\u001b[0;34m,\u001b[0m \u001b[0;34m\"Episode_eliminated\"\u001b[0m\u001b[0;34m,\u001b[0m \u001b[0;34m\"Wins\"\u001b[0m\u001b[0;34m,\u001b[0m \u001b[0;34m\"Bottoms\"\u001b[0m\u001b[0;34m]\u001b[0m\u001b[0;34m)\u001b[0m\u001b[0;34m\u001b[0m\u001b[0;34m\u001b[0m\u001b[0m\n\u001b[0m",
      "\u001b[0;31mNameError\u001b[0m: name 'pd' is not defined"
     ]
    }
   ],
   "source": [
    "df = pd.DataFrame(drags, columns = [\"ID\", \"Name\", \"Twitter_handler\", \"Age\", \"City\", \"Place\", \"Episode_eliminated\", \"Wins\", \"Bottoms\"])"
   ]
  },
  {
   "cell_type": "code",
   "execution_count": 2,
   "metadata": {},
   "outputs": [
    {
     "ename": "NameError",
     "evalue": "name 'drag_links' is not defined",
     "output_type": "error",
     "traceback": [
      "\u001b[0;31m---------------------------------------------------------------------------\u001b[0m",
      "\u001b[0;31mNameError\u001b[0m                                 Traceback (most recent call last)",
      "\u001b[0;32m<ipython-input-2-dc32a3134052>\u001b[0m in \u001b[0;36m<module>\u001b[0;34m\u001b[0m\n\u001b[0;32m----> 1\u001b[0;31m \u001b[0mdf\u001b[0m\u001b[0;34m[\u001b[0m\u001b[0;34m\"Place\"\u001b[0m\u001b[0;34m]\u001b[0m\u001b[0;34m=\u001b[0m\u001b[0;34m[\u001b[0m \u001b[0mfixPlace\u001b[0m\u001b[0;34m(\u001b[0m\u001b[0mbase_url\u001b[0m \u001b[0;34m+\u001b[0m \u001b[0mdrag_link\u001b[0m\u001b[0;34m)\u001b[0m \u001b[0;32mfor\u001b[0m \u001b[0mdrag_link\u001b[0m \u001b[0;32min\u001b[0m \u001b[0mdrag_links\u001b[0m\u001b[0;34m]\u001b[0m\u001b[0;34m\u001b[0m\u001b[0;34m\u001b[0m\u001b[0m\n\u001b[0m\u001b[1;32m      2\u001b[0m \u001b[0mdf\u001b[0m\u001b[0;34m\u001b[0m\u001b[0;34m\u001b[0m\u001b[0m\n",
      "\u001b[0;31mNameError\u001b[0m: name 'drag_links' is not defined"
     ]
    }
   ],
   "source": [
    "df[\"Place\"]=[ fixPlace(base_url + drag_link) for drag_link in drag_links]\n",
    "df"
   ]
  },
  {
   "cell_type": "code",
   "execution_count": 56,
   "metadata": {},
   "outputs": [],
   "source": [
    "def fixPlace(link):\n",
    "    soup = bs(requests.get(link).text)\n",
    "    place = soup.find(attrs={\"data-source\": \"Place\"}).find(\"div\").text\n",
    "    if place[0] == \"R\":\n",
    "        place=\"2\"\n",
    "    elif place[0] == \"W\":\n",
    "        place=\"1\"\n",
    "    \n",
    "    return re.match(\"([0-9]+)\", place).group(1)"
   ]
  },
  {
   "cell_type": "code",
   "execution_count": 58,
   "metadata": {},
   "outputs": [],
   "source": [
    "df.to_csv('Data/drags.csv',index=False)"
   ]
  },
  {
   "cell_type": "code",
   "execution_count": 8,
   "metadata": {},
   "outputs": [],
   "source": [
    "db_score_url='/wiki/\"Dusted_or_Busted\"_Scores/RuPaul%27s_Drag_Race#Season_13'"
   ]
  },
  {
   "cell_type": "code",
   "execution_count": 9,
   "metadata": {},
   "outputs": [
    {
     "data": {
      "text/plain": [
       "<Response [200]>"
      ]
     },
     "execution_count": 9,
     "metadata": {},
     "output_type": "execute_result"
    }
   ],
   "source": [
    "response = requests.get(base_url+db_score_url)\n",
    "response"
   ]
  },
  {
   "cell_type": "code",
   "execution_count": 10,
   "metadata": {},
   "outputs": [],
   "source": [
    "soup = bs(response.text)"
   ]
  },
  {
   "cell_type": "code",
   "execution_count": 11,
   "metadata": {},
   "outputs": [
    {
     "data": {
      "text/plain": [
       "'6.364'"
      ]
     },
     "execution_count": 11,
     "metadata": {},
     "output_type": "execute_result"
    }
   ],
   "source": [
    "table = soup.find_all(\"table\", class_= \"wikitable sortable\")[12]\n",
    "rows = table.find(\"tbody\").find_all(\"tr\")\n",
    "rows.pop(0)\n",
    "rows[2].find_all(\"td\")[16].text.strip(\"\\n\")\n",
    "#scores = [ row.find_all(\"td\")[15].text.strip(\"\\n\") for row in rows]\n",
    "#scores"
   ]
  },
  {
   "cell_type": "code",
   "execution_count": 12,
   "metadata": {},
   "outputs": [
    {
     "data": {
      "text/html": [
       "<div>\n",
       "<style scoped>\n",
       "    .dataframe tbody tr th:only-of-type {\n",
       "        vertical-align: middle;\n",
       "    }\n",
       "\n",
       "    .dataframe tbody tr th {\n",
       "        vertical-align: top;\n",
       "    }\n",
       "\n",
       "    .dataframe thead th {\n",
       "        text-align: right;\n",
       "    }\n",
       "</style>\n",
       "<table border=\"1\" class=\"dataframe\">\n",
       "  <thead>\n",
       "    <tr style=\"text-align: right;\">\n",
       "      <th></th>\n",
       "      <th>ID</th>\n",
       "      <th>Name</th>\n",
       "      <th>Twitter_handler</th>\n",
       "      <th>Age</th>\n",
       "      <th>City</th>\n",
       "      <th>Place</th>\n",
       "      <th>Episode_eliminated</th>\n",
       "      <th>Wins</th>\n",
       "      <th>Bottoms</th>\n",
       "    </tr>\n",
       "  </thead>\n",
       "  <tbody>\n",
       "    <tr>\n",
       "      <th>0</th>\n",
       "      <td>1151340112955019265</td>\n",
       "      <td>Denali Foxx</td>\n",
       "      <td>denalifox</td>\n",
       "      <td>29</td>\n",
       "      <td>Chicago, IL, USA</td>\n",
       "      <td>8</td>\n",
       "      <td>Episode 10</td>\n",
       "      <td>1</td>\n",
       "      <td>2</td>\n",
       "    </tr>\n",
       "    <tr>\n",
       "      <th>1</th>\n",
       "      <td>2274214254</td>\n",
       "      <td>Elliott with 2 Ts</td>\n",
       "      <td>theelliottqueen</td>\n",
       "      <td>27</td>\n",
       "      <td>Las Vegas, NV, USA</td>\n",
       "      <td>9</td>\n",
       "      <td>Episode 9</td>\n",
       "      <td>0</td>\n",
       "      <td>0</td>\n",
       "    </tr>\n",
       "    <tr>\n",
       "      <th>2</th>\n",
       "      <td>1331018240470917120</td>\n",
       "      <td>Gottmik</td>\n",
       "      <td>gottmik</td>\n",
       "      <td>24</td>\n",
       "      <td>Los Angeles, CA, USA</td>\n",
       "      <td>3</td>\n",
       "      <td>Episode 16</td>\n",
       "      <td>2</td>\n",
       "      <td>1</td>\n",
       "    </tr>\n",
       "    <tr>\n",
       "      <th>3</th>\n",
       "      <td>26068447</td>\n",
       "      <td>Joey Jay</td>\n",
       "      <td>joeyjayisgay</td>\n",
       "      <td>30</td>\n",
       "      <td>Phoenix, AZ, USA</td>\n",
       "      <td>12</td>\n",
       "      <td>Episode 5</td>\n",
       "      <td>0</td>\n",
       "      <td>0</td>\n",
       "    </tr>\n",
       "    <tr>\n",
       "      <th>4</th>\n",
       "      <td>635906376</td>\n",
       "      <td>Kahmora Hall-Iman</td>\n",
       "      <td>KahmoraHall</td>\n",
       "      <td>29</td>\n",
       "      <td>Unknown</td>\n",
       "      <td>13</td>\n",
       "      <td>Episode 4</td>\n",
       "      <td>0</td>\n",
       "      <td>0</td>\n",
       "    </tr>\n",
       "    <tr>\n",
       "      <th>5</th>\n",
       "      <td>89282580</td>\n",
       "      <td>Kandy Muse</td>\n",
       "      <td>TheKandyMuse</td>\n",
       "      <td>26</td>\n",
       "      <td>Los Angeles, CA, USA</td>\n",
       "      <td>2</td>\n",
       "      <td>Episode 16</td>\n",
       "      <td>1</td>\n",
       "      <td>2</td>\n",
       "    </tr>\n",
       "    <tr>\n",
       "      <th>6</th>\n",
       "      <td>1198827021104750592</td>\n",
       "      <td>LaLa Ri</td>\n",
       "      <td>misslalari</td>\n",
       "      <td>30</td>\n",
       "      <td>Unknown</td>\n",
       "      <td>10</td>\n",
       "      <td>Episode 7</td>\n",
       "      <td>0</td>\n",
       "      <td>1</td>\n",
       "    </tr>\n",
       "    <tr>\n",
       "      <th>7</th>\n",
       "      <td>1304051396942139397</td>\n",
       "      <td>Olivia Lux</td>\n",
       "      <td>TheOliviaLux</td>\n",
       "      <td>27</td>\n",
       "      <td>New York City, NY, USA</td>\n",
       "      <td>5</td>\n",
       "      <td>Episode 13</td>\n",
       "      <td>2</td>\n",
       "      <td>1</td>\n",
       "    </tr>\n",
       "    <tr>\n",
       "      <th>8</th>\n",
       "      <td>967299284235440128</td>\n",
       "      <td>Rosé</td>\n",
       "      <td>omgheyrose</td>\n",
       "      <td>31</td>\n",
       "      <td>New York City, NY, USA</td>\n",
       "      <td>3</td>\n",
       "      <td>Episode 16</td>\n",
       "      <td>3</td>\n",
       "      <td>1</td>\n",
       "    </tr>\n",
       "    <tr>\n",
       "      <th>9</th>\n",
       "      <td>1218767468954411011</td>\n",
       "      <td>Symone</td>\n",
       "      <td>the_symonee</td>\n",
       "      <td>26</td>\n",
       "      <td>Los Angeles, CA, USA</td>\n",
       "      <td>1</td>\n",
       "      <td>NaN</td>\n",
       "      <td>4</td>\n",
       "      <td>2</td>\n",
       "    </tr>\n",
       "    <tr>\n",
       "      <th>10</th>\n",
       "      <td>951228252747689991</td>\n",
       "      <td>Tamisha Iman</td>\n",
       "      <td>TamishaIman1</td>\n",
       "      <td>50</td>\n",
       "      <td>Atlanta, GA, USA</td>\n",
       "      <td>11</td>\n",
       "      <td>Episode 6</td>\n",
       "      <td>0</td>\n",
       "      <td>1</td>\n",
       "    </tr>\n",
       "    <tr>\n",
       "      <th>11</th>\n",
       "      <td>874256563</td>\n",
       "      <td>Tina Burner</td>\n",
       "      <td>thetinaburner</td>\n",
       "      <td>40</td>\n",
       "      <td>New York City, NY, USA</td>\n",
       "      <td>7</td>\n",
       "      <td>Episode 11</td>\n",
       "      <td>0</td>\n",
       "      <td>1</td>\n",
       "    </tr>\n",
       "    <tr>\n",
       "      <th>12</th>\n",
       "      <td>1105838381622329344</td>\n",
       "      <td>Utica Queen</td>\n",
       "      <td>QueenUtica</td>\n",
       "      <td>25</td>\n",
       "      <td>Minneapolis, MN, USA</td>\n",
       "      <td>6</td>\n",
       "      <td>Episode 12</td>\n",
       "      <td>1</td>\n",
       "      <td>0</td>\n",
       "    </tr>\n",
       "  </tbody>\n",
       "</table>\n",
       "</div>"
      ],
      "text/plain": [
       "                     ID               Name  Twitter_handler  Age  \\\n",
       "0   1151340112955019265        Denali Foxx        denalifox   29   \n",
       "1            2274214254  Elliott with 2 Ts  theelliottqueen   27   \n",
       "2   1331018240470917120            Gottmik          gottmik   24   \n",
       "3              26068447           Joey Jay     joeyjayisgay   30   \n",
       "4             635906376  Kahmora Hall-Iman      KahmoraHall   29   \n",
       "5              89282580         Kandy Muse     TheKandyMuse   26   \n",
       "6   1198827021104750592            LaLa Ri       misslalari   30   \n",
       "7   1304051396942139397         Olivia Lux     TheOliviaLux   27   \n",
       "8    967299284235440128               Rosé       omgheyrose   31   \n",
       "9   1218767468954411011             Symone      the_symonee   26   \n",
       "10   951228252747689991       Tamisha Iman     TamishaIman1   50   \n",
       "11            874256563        Tina Burner    thetinaburner   40   \n",
       "12  1105838381622329344        Utica Queen       QueenUtica   25   \n",
       "\n",
       "                      City  Place Episode_eliminated  Wins  Bottoms  \n",
       "0         Chicago, IL, USA      8         Episode 10     1        2  \n",
       "1       Las Vegas, NV, USA      9          Episode 9     0        0  \n",
       "2     Los Angeles, CA, USA      3         Episode 16     2        1  \n",
       "3         Phoenix, AZ, USA     12          Episode 5     0        0  \n",
       "4                  Unknown     13          Episode 4     0        0  \n",
       "5     Los Angeles, CA, USA      2         Episode 16     1        2  \n",
       "6                  Unknown     10          Episode 7     0        1  \n",
       "7   New York City, NY, USA      5         Episode 13     2        1  \n",
       "8   New York City, NY, USA      3         Episode 16     3        1  \n",
       "9     Los Angeles, CA, USA      1                NaN     4        2  \n",
       "10        Atlanta, GA, USA     11          Episode 6     0        1  \n",
       "11  New York City, NY, USA      7         Episode 11     0        1  \n",
       "12    Minneapolis, MN, USA      6         Episode 12     1        0  "
      ]
     },
     "execution_count": 12,
     "metadata": {},
     "output_type": "execute_result"
    }
   ],
   "source": [
    "df = pd.read_csv(\"Data/drags.csv\")\n",
    "df"
   ]
  },
  {
   "cell_type": "code",
   "execution_count": 27,
   "metadata": {},
   "outputs": [
    {
     "name": "stdout",
     "output_type": "stream",
     "text": [
      "Denali Foxx\n",
      "Elliott with 2 Ts\n",
      "Gottmik\n",
      "Joey Jay\n",
      "Kahmora Hall-Iman\n",
      "Kandy Muse\n",
      "LaLa Ri\n",
      "Olivia Lux\n",
      "Rosé\n",
      "Symone\n",
      "Tamisha Iman\n",
      "Tina Burner\n",
      "Utica Queen\n"
     ]
    },
    {
     "data": {
      "text/plain": [
       "13"
      ]
     },
     "execution_count": 27,
     "metadata": {},
     "output_type": "execute_result"
    }
   ],
   "source": [
    "drag_names = list(df[\"Name\"])\n",
    "#print(drag_names[0])\n",
    "#denali = list(filter(lambda v: (v.text in drag_name) and v.text!=\"\", table.find_all(\"a\")))[0]\n",
    "#score = list(filter(lambda v: re.search(\"\\d+\\.\\d+\",v.text),denali.parent.parent.parent.find_all(\"td\")))[0].text.strip(\"\\n\")\n",
    "scores = []\n",
    "for drag_name in drag_names:\n",
    "    print(drag_name)\n",
    "    drag = list(filter(lambda v: (v.text.replace(\" \", \"\") in drag_name.replace(\" \", \"\")) and v.text!=\"\", table.find_all(\"a\")))[0]\n",
    "    scores.append(list(filter(lambda v: re.search(\"\\d+\\.\\d{3}\",v.text),drag.parent.parent.parent.find_all(\"td\")))[0].text.strip(\"\\n\"))\n",
    "len(scores)"
   ]
  },
  {
   "cell_type": "code",
   "execution_count": 29,
   "metadata": {},
   "outputs": [
    {
     "data": {
      "text/html": [
       "<div>\n",
       "<style scoped>\n",
       "    .dataframe tbody tr th:only-of-type {\n",
       "        vertical-align: middle;\n",
       "    }\n",
       "\n",
       "    .dataframe tbody tr th {\n",
       "        vertical-align: top;\n",
       "    }\n",
       "\n",
       "    .dataframe thead th {\n",
       "        text-align: right;\n",
       "    }\n",
       "</style>\n",
       "<table border=\"1\" class=\"dataframe\">\n",
       "  <thead>\n",
       "    <tr style=\"text-align: right;\">\n",
       "      <th></th>\n",
       "      <th>ID</th>\n",
       "      <th>Name</th>\n",
       "      <th>Twitter_handler</th>\n",
       "      <th>Age</th>\n",
       "      <th>City</th>\n",
       "      <th>Place</th>\n",
       "      <th>Episode_eliminated</th>\n",
       "      <th>Wins</th>\n",
       "      <th>Bottoms</th>\n",
       "      <th>DB_scores</th>\n",
       "    </tr>\n",
       "  </thead>\n",
       "  <tbody>\n",
       "    <tr>\n",
       "      <th>0</th>\n",
       "      <td>1151340112955019265</td>\n",
       "      <td>Denali Foxx</td>\n",
       "      <td>denalifox</td>\n",
       "      <td>29</td>\n",
       "      <td>Chicago, IL, USA</td>\n",
       "      <td>8</td>\n",
       "      <td>Episode 10</td>\n",
       "      <td>1</td>\n",
       "      <td>2</td>\n",
       "      <td>5.000</td>\n",
       "    </tr>\n",
       "    <tr>\n",
       "      <th>1</th>\n",
       "      <td>2274214254</td>\n",
       "      <td>Elliott with 2 Ts</td>\n",
       "      <td>theelliottqueen</td>\n",
       "      <td>27</td>\n",
       "      <td>Las Vegas, NV, USA</td>\n",
       "      <td>9</td>\n",
       "      <td>Episode 9</td>\n",
       "      <td>0</td>\n",
       "      <td>0</td>\n",
       "      <td>4.285</td>\n",
       "    </tr>\n",
       "    <tr>\n",
       "      <th>2</th>\n",
       "      <td>1331018240470917120</td>\n",
       "      <td>Gottmik</td>\n",
       "      <td>gottmik</td>\n",
       "      <td>24</td>\n",
       "      <td>Los Angeles, CA, USA</td>\n",
       "      <td>3</td>\n",
       "      <td>Episode 16</td>\n",
       "      <td>2</td>\n",
       "      <td>1</td>\n",
       "      <td>6.364</td>\n",
       "    </tr>\n",
       "    <tr>\n",
       "      <th>3</th>\n",
       "      <td>26068447</td>\n",
       "      <td>Joey Jay</td>\n",
       "      <td>joeyjayisgay</td>\n",
       "      <td>30</td>\n",
       "      <td>Phoenix, AZ, USA</td>\n",
       "      <td>12</td>\n",
       "      <td>Episode 5</td>\n",
       "      <td>0</td>\n",
       "      <td>0</td>\n",
       "      <td>2.500</td>\n",
       "    </tr>\n",
       "    <tr>\n",
       "      <th>4</th>\n",
       "      <td>635906376</td>\n",
       "      <td>Kahmora Hall-Iman</td>\n",
       "      <td>KahmoraHall</td>\n",
       "      <td>29</td>\n",
       "      <td>Unknown</td>\n",
       "      <td>13</td>\n",
       "      <td>Episode 4</td>\n",
       "      <td>0</td>\n",
       "      <td>0</td>\n",
       "      <td>1.250</td>\n",
       "    </tr>\n",
       "    <tr>\n",
       "      <th>5</th>\n",
       "      <td>89282580</td>\n",
       "      <td>Kandy Muse</td>\n",
       "      <td>TheKandyMuse</td>\n",
       "      <td>26</td>\n",
       "      <td>Los Angeles, CA, USA</td>\n",
       "      <td>2</td>\n",
       "      <td>Episode 16</td>\n",
       "      <td>1</td>\n",
       "      <td>2</td>\n",
       "      <td>4.773</td>\n",
       "    </tr>\n",
       "    <tr>\n",
       "      <th>6</th>\n",
       "      <td>1198827021104750592</td>\n",
       "      <td>LaLa Ri</td>\n",
       "      <td>misslalari</td>\n",
       "      <td>30</td>\n",
       "      <td>Unknown</td>\n",
       "      <td>10</td>\n",
       "      <td>Episode 7</td>\n",
       "      <td>0</td>\n",
       "      <td>1</td>\n",
       "      <td>3.000</td>\n",
       "    </tr>\n",
       "    <tr>\n",
       "      <th>7</th>\n",
       "      <td>1304051396942139397</td>\n",
       "      <td>Olivia Lux</td>\n",
       "      <td>TheOliviaLux</td>\n",
       "      <td>27</td>\n",
       "      <td>New York City, NY, USA</td>\n",
       "      <td>5</td>\n",
       "      <td>Episode 13</td>\n",
       "      <td>2</td>\n",
       "      <td>1</td>\n",
       "      <td>4.659</td>\n",
       "    </tr>\n",
       "    <tr>\n",
       "      <th>8</th>\n",
       "      <td>967299284235440128</td>\n",
       "      <td>Rosé</td>\n",
       "      <td>omgheyrose</td>\n",
       "      <td>31</td>\n",
       "      <td>New York City, NY, USA</td>\n",
       "      <td>3</td>\n",
       "      <td>Episode 16</td>\n",
       "      <td>3</td>\n",
       "      <td>1</td>\n",
       "      <td>7.386</td>\n",
       "    </tr>\n",
       "    <tr>\n",
       "      <th>9</th>\n",
       "      <td>1218767468954411011</td>\n",
       "      <td>Symone</td>\n",
       "      <td>the_symonee</td>\n",
       "      <td>26</td>\n",
       "      <td>Los Angeles, CA, USA</td>\n",
       "      <td>1</td>\n",
       "      <td>NaN</td>\n",
       "      <td>4</td>\n",
       "      <td>2</td>\n",
       "      <td>6.364</td>\n",
       "    </tr>\n",
       "    <tr>\n",
       "      <th>10</th>\n",
       "      <td>951228252747689991</td>\n",
       "      <td>Tamisha Iman</td>\n",
       "      <td>TamishaIman1</td>\n",
       "      <td>50</td>\n",
       "      <td>Atlanta, GA, USA</td>\n",
       "      <td>11</td>\n",
       "      <td>Episode 6</td>\n",
       "      <td>0</td>\n",
       "      <td>1</td>\n",
       "      <td>3.750</td>\n",
       "    </tr>\n",
       "    <tr>\n",
       "      <th>11</th>\n",
       "      <td>874256563</td>\n",
       "      <td>Tina Burner</td>\n",
       "      <td>thetinaburner</td>\n",
       "      <td>40</td>\n",
       "      <td>New York City, NY, USA</td>\n",
       "      <td>7</td>\n",
       "      <td>Episode 11</td>\n",
       "      <td>0</td>\n",
       "      <td>1</td>\n",
       "      <td>4.444</td>\n",
       "    </tr>\n",
       "    <tr>\n",
       "      <th>12</th>\n",
       "      <td>1105838381622329344</td>\n",
       "      <td>Utica Queen</td>\n",
       "      <td>QueenUtica</td>\n",
       "      <td>25</td>\n",
       "      <td>Minneapolis, MN, USA</td>\n",
       "      <td>6</td>\n",
       "      <td>Episode 12</td>\n",
       "      <td>1</td>\n",
       "      <td>0</td>\n",
       "      <td>4.000</td>\n",
       "    </tr>\n",
       "  </tbody>\n",
       "</table>\n",
       "</div>"
      ],
      "text/plain": [
       "                     ID               Name  Twitter_handler  Age  \\\n",
       "0   1151340112955019265        Denali Foxx        denalifox   29   \n",
       "1            2274214254  Elliott with 2 Ts  theelliottqueen   27   \n",
       "2   1331018240470917120            Gottmik          gottmik   24   \n",
       "3              26068447           Joey Jay     joeyjayisgay   30   \n",
       "4             635906376  Kahmora Hall-Iman      KahmoraHall   29   \n",
       "5              89282580         Kandy Muse     TheKandyMuse   26   \n",
       "6   1198827021104750592            LaLa Ri       misslalari   30   \n",
       "7   1304051396942139397         Olivia Lux     TheOliviaLux   27   \n",
       "8    967299284235440128               Rosé       omgheyrose   31   \n",
       "9   1218767468954411011             Symone      the_symonee   26   \n",
       "10   951228252747689991       Tamisha Iman     TamishaIman1   50   \n",
       "11            874256563        Tina Burner    thetinaburner   40   \n",
       "12  1105838381622329344        Utica Queen       QueenUtica   25   \n",
       "\n",
       "                      City  Place Episode_eliminated  Wins  Bottoms DB_scores  \n",
       "0         Chicago, IL, USA      8         Episode 10     1        2     5.000  \n",
       "1       Las Vegas, NV, USA      9          Episode 9     0        0     4.285  \n",
       "2     Los Angeles, CA, USA      3         Episode 16     2        1     6.364  \n",
       "3         Phoenix, AZ, USA     12          Episode 5     0        0     2.500  \n",
       "4                  Unknown     13          Episode 4     0        0     1.250  \n",
       "5     Los Angeles, CA, USA      2         Episode 16     1        2     4.773  \n",
       "6                  Unknown     10          Episode 7     0        1     3.000  \n",
       "7   New York City, NY, USA      5         Episode 13     2        1     4.659  \n",
       "8   New York City, NY, USA      3         Episode 16     3        1     7.386  \n",
       "9     Los Angeles, CA, USA      1                NaN     4        2     6.364  \n",
       "10        Atlanta, GA, USA     11          Episode 6     0        1     3.750  \n",
       "11  New York City, NY, USA      7         Episode 11     0        1     4.444  \n",
       "12    Minneapolis, MN, USA      6         Episode 12     1        0     4.000  "
      ]
     },
     "execution_count": 29,
     "metadata": {},
     "output_type": "execute_result"
    }
   ],
   "source": [
    "df[\"DB_scores\"]=scores\n",
    "df"
   ]
  },
  {
   "cell_type": "code",
   "execution_count": 36,
   "metadata": {},
   "outputs": [],
   "source": [
    "df = pd.read_csv(\"Data/drags.csv\")\n",
    "df[\"ID\"]=[str(idi) +  \"\" for idi in list(df[\"ID\"])]"
   ]
  },
  {
   "cell_type": "code",
   "execution_count": 37,
   "metadata": {},
   "outputs": [],
   "source": [
    "df.to_csv('Data/drags.csv',index=False)"
   ]
  }
 ],
 "metadata": {
  "kernelspec": {
   "display_name": "Python 3",
   "language": "python",
   "name": "python3"
  },
  "language_info": {
   "codemirror_mode": {
    "name": "ipython",
    "version": 3
   },
   "file_extension": ".py",
   "mimetype": "text/x-python",
   "name": "python",
   "nbconvert_exporter": "python",
   "pygments_lexer": "ipython3",
   "version": "3.7.4"
  }
 },
 "nbformat": 4,
 "nbformat_minor": 4
}
