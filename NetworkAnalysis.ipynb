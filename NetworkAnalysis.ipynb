{
 "cells": [
  {
   "cell_type": "code",
   "execution_count": 1,
   "metadata": {},
   "outputs": [],
   "source": [
    "import networkx as nx\n",
    "import pandas as pd\n",
    "import numpy as np\n",
    "from statsmodels.distributions.empirical_distribution import ECDF\n",
    "import matplotlib.pyplot as plt\n",
    "from scipy.stats import poisson\n",
    "import scipy.stats as stats\n",
    "from scipy.spatial import distance\n",
    "from dragsUtility import * \n",
    "import json\n",
    "import twitter\n",
    "import numpy as np; np.random.seed(0)\n",
    "import seaborn as sns; sns.set_theme()"
   ]
  },
  {
   "cell_type": "code",
   "execution_count": 2,
   "metadata": {},
   "outputs": [],
   "source": [
    "df = pd.read_csv('Data/rutweet.csv')\n",
    "graph = nx.from_pandas_edgelist(df, source=\"source\", target=\"target\", edge_attr=\"weight\", create_using=nx.DiGraph)"
   ]
  },
  {
   "cell_type": "markdown",
   "metadata": {},
   "source": [
    "# Preprocessing"
   ]
  },
  {
   "cell_type": "markdown",
   "metadata": {},
   "source": [
    "Rimozione dei cappi"
   ]
  },
  {
   "cell_type": "code",
   "execution_count": 3,
   "metadata": {},
   "outputs": [],
   "source": [
    "graph.remove_edges_from(nx.selfloop_edges(graph))"
   ]
  },
  {
   "cell_type": "markdown",
   "metadata": {},
   "source": [
    "Cartoon Network"
   ]
  },
  {
   "cell_type": "markdown",
   "metadata": {},
   "source": [
    "# Network info"
   ]
  },
  {
   "cell_type": "code",
   "execution_count": 4,
   "metadata": {},
   "outputs": [
    {
     "name": "stdout",
     "output_type": "stream",
     "text": [
      "Number of nodes 22670\n",
      "Number of edges 48325\n"
     ]
    }
   ],
   "source": [
    "print(\"Number of nodes {}\".format(graph.order()))\n",
    "print(\"Number of edges {}\".format(graph.size()))"
   ]
  },
  {
   "cell_type": "code",
   "execution_count": 5,
   "metadata": {},
   "outputs": [
    {
     "data": {
      "text/plain": [
       "False"
      ]
     },
     "execution_count": 5,
     "metadata": {},
     "output_type": "execute_result"
    }
   ],
   "source": [
    "nx.is_directed_acyclic_graph(graph)"
   ]
  },
  {
   "cell_type": "code",
   "execution_count": 6,
   "metadata": {},
   "outputs": [
    {
     "name": "stdout",
     "output_type": "stream",
     "text": [
      "Density 9.403466465078659e-05\n"
     ]
    }
   ],
   "source": [
    "print(\"Density {}\".format(nx.density(graph)))"
   ]
  },
  {
   "cell_type": "markdown",
   "metadata": {},
   "source": [
    "## Degree Analysis"
   ]
  },
  {
   "cell_type": "markdown",
   "metadata": {},
   "source": [
    "### In-Degree + Out-Degree = Degree"
   ]
  },
  {
   "cell_type": "markdown",
   "metadata": {},
   "source": [
    "Media, mediana, deviazione standard, range interquartile, minimo e massimo sono dei buoni indici per riassumere la distribuzione."
   ]
  },
  {
   "cell_type": "code",
   "execution_count": 7,
   "metadata": {},
   "outputs": [
    {
     "name": "stdout",
     "output_type": "stream",
     "text": [
      "Mean degree: \t5.067137185707984\n",
      "Standard deviation: 84.14736370546478\n",
      "Median: 2.0\n",
      "iqr: 2.0\n",
      "Min: 0\n",
      "Max: 9698\n"
     ]
    }
   ],
   "source": [
    "degrees = list(dict(graph.degree(weight=\"weight\")).values())\n",
    "\n",
    "print('Mean degree: \\t'+ str(np.mean(degrees)))\n",
    "print('Standard deviation: ' + str(np.std(degrees)))\n",
    "print('Median: ' + str(np.median(degrees)))\n",
    "print('iqr: ' + str(np.quantile(degrees, 0.75) - np.quantile(degrees, 0.25)))\n",
    "print('Min: ' + str(np.min(degrees)))\n",
    "print('Max: ' + str(np.max(degrees)))"
   ]
  },
  {
   "cell_type": "code",
   "execution_count": 8,
   "metadata": {},
   "outputs": [],
   "source": [
    "random_graph_erdos = nx.fast_gnp_random_graph(len(graph.nodes), nx.density(graph))\n",
    "random_degrees = list(dict(random_graph_erdos.degree()).values())"
   ]
  },
  {
   "cell_type": "code",
   "execution_count": 9,
   "metadata": {},
   "outputs": [
    {
     "data": {
      "image/png": "[encoded data removed]",
      "text/plain": [
       "<Figure size 720x360 with 1 Axes>"
      ]
     },
     "metadata": {
      "needs_background": "light"
     },
     "output_type": "display_data"
    }
   ],
   "source": [
    "cdf = ECDF(degrees)\n",
    "x = np.unique(degrees)\n",
    "y = cdf(x)\n",
    "\n",
    "cdf_random = ECDF(random_degrees)\n",
    "x_random = np.unique(random_degrees)\n",
    "y_random = cdf_random(x_random)\n",
    " \n",
    "fig_cdf_fb = plt.figure(figsize=(10,5))\n",
    "axes = fig_cdf_fb.gca()\n",
    "axes.set_xscale('log')\n",
    "axes.set_yscale('log')\n",
    "axes.loglog(x,1-y,marker='o',ms=8, linestyle='-', label = \"Ru Net\", color = \"#61CAE2\")\n",
    "axes.loglog(x_random,1-y_random,marker='D',ms=10, linestyle='-', label=\"Random\", color = \"#EA63BD\")\n",
    "axes.legend()\n",
    "axes.set_xlabel('Degree',size=20)\n",
    "axes.set_ylabel('ECCDF', size = 20)\n",
    "plt.savefig(\"Images/DegreeDistribution.png\", dpi=1200, bbox_inches='tight')\n",
    "plt.show()"
   ]
  },
  {
   "cell_type": "markdown",
   "metadata": {},
   "source": [
    "### In-Degree"
   ]
  },
  {
   "cell_type": "code",
   "execution_count": 10,
   "metadata": {},
   "outputs": [
    {
     "name": "stdout",
     "output_type": "stream",
     "text": [
      "Mean degree: \t2.533568592853992\n",
      "Standard deviation: 83.69730576458063\n",
      "Median: 0.0\n",
      "iqr: 0.0\n",
      "Min: 0\n",
      "Max: 9657\n"
     ]
    }
   ],
   "source": [
    "in_degrees_noitems =  dict(graph.in_degree(weight='weight'))\n",
    "in_degrees = list(in_degrees_noitems.values())\n",
    "\n",
    "\n",
    "print('Mean degree: \\t'+ str(np.mean(in_degrees)))\n",
    "print('Standard deviation: ' + str(np.std(in_degrees)))\n",
    "print('Median: ' + str(np.median(in_degrees)))\n",
    "print('iqr: ' + str(np.quantile(in_degrees, 0.75) - np.quantile(in_degrees, 0.25)))\n",
    "print('Min: ' + str(np.min(in_degrees)))\n",
    "print('Max: ' + str(np.max(in_degrees)))"
   ]
  },
  {
   "cell_type": "markdown",
   "metadata": {},
   "source": [
    "Il nodo con in-degree più alto è un partecipante?"
   ]
  },
  {
   "cell_type": "code",
   "execution_count": 11,
   "metadata": {},
   "outputs": [
    {
     "data": {
      "text/plain": [
       "False"
      ]
     },
     "execution_count": 11,
     "metadata": {},
     "output_type": "execute_result"
    }
   ],
   "source": [
    "pippo = dict(graph.in_degree(weight=\"weight\"))\n",
    "sortedPippo = {k: v for k, v in sorted(pippo.items(), key=lambda item: item[1], reverse=True)}\n",
    "dragsUtility= DragsUtility()\n",
    "dragsUtility.isaDrag(str(list(sortedPippo.keys())[0]))"
   ]
  },
  {
   "cell_type": "code",
   "execution_count": 12,
   "metadata": {},
   "outputs": [],
   "source": [
    "random_digraph_erdos = nx.fast_gnp_random_graph(len(graph.nodes), nx.density(graph), directed=True)\n",
    "random_in_degrees = list(dict(random_digraph_erdos.in_degree(weight=\"weight\")).values())"
   ]
  },
  {
   "cell_type": "code",
   "execution_count": 13,
   "metadata": {},
   "outputs": [
    {
     "data": {
      "image/png": "[encoded data removed]",
      "text/plain": [
       "<Figure size 720x360 with 1 Axes>"
      ]
     },
     "metadata": {
      "needs_background": "light"
     },
     "output_type": "display_data"
    }
   ],
   "source": [
    "cdf = ECDF(in_degrees)\n",
    "x = np.unique(in_degrees)\n",
    "y = cdf(x)\n",
    "\n",
    "cdf_random = ECDF(random_in_degrees)\n",
    "x_random = np.unique(random_in_degrees)\n",
    "y_random = cdf_random(x_random)\n",
    " \n",
    "fig_cdf_fb = plt.figure(figsize=(10,5))\n",
    "axes = fig_cdf_fb.gca()\n",
    "axes.set_xscale('log')\n",
    "axes.set_yscale('log')\n",
    "axes.loglog(x,1-y,marker='o',ms=8, linestyle='-', label = \"Ru Net\", color = \"#61CAE2\")\n",
    "axes.loglog(x_random,1-y_random,marker='D',ms=10, linestyle='-', label=\"Random\", color = \"#EA63BD\")\n",
    "axes.legend()\n",
    "axes.set_xlabel('In-Degree',size=20)\n",
    "axes.set_ylabel('ECCDF', size = 20)\n",
    "plt.savefig(\"Images/InDegreeDistribution.png\", dpi=1200, bbox_inches='tight')\n",
    "plt.show()"
   ]
  },
  {
   "cell_type": "markdown",
   "metadata": {},
   "source": [
    "### Out-degree"
   ]
  },
  {
   "cell_type": "code",
   "execution_count": 14,
   "metadata": {},
   "outputs": [
    {
     "name": "stdout",
     "output_type": "stream",
     "text": [
      "Mean degree: \t2.533568592853992\n",
      "Standard deviation: 4.58445213047373\n",
      "Median: 1.0\n",
      "iqr: 2.0\n",
      "Min: 0\n",
      "Max: 165\n"
     ]
    }
   ],
   "source": [
    "out_degrees_dict = dict(graph.out_degree(weight=\"weight\"))\n",
    "out_degrees = list(out_degrees_dict.values())\n",
    "\n",
    "print('Mean degree: \\t'+ str(np.mean(out_degrees)))\n",
    "print('Standard deviation: ' + str(np.std(out_degrees)))\n",
    "print('Median: ' + str(np.median(out_degrees)))\n",
    "print('iqr: ' + str(np.quantile(out_degrees, 0.75) - np.quantile(out_degrees, 0.25)))\n",
    "print('Min: ' + str(np.min(out_degrees)))\n",
    "print('Max: ' + str(np.max(out_degrees)))\n"
   ]
  },
  {
   "cell_type": "code",
   "execution_count": 15,
   "metadata": {},
   "outputs": [],
   "source": [
    "random_out_degrees = list(dict(random_digraph_erdos.out_degree(weight=\"weight\")).values())"
   ]
  },
  {
   "cell_type": "code",
   "execution_count": 16,
   "metadata": {},
   "outputs": [
    {
     "data": {
      "image/png": "[encoded data removed]",
      "text/plain": [
       "<Figure size 720x360 with 1 Axes>"
      ]
     },
     "metadata": {
      "needs_background": "light"
     },
     "output_type": "display_data"
    }
   ],
   "source": [
    "cdf = ECDF(out_degrees)\n",
    "x = np.unique(out_degrees)\n",
    "y = cdf(x)\n",
    "\n",
    "cdf_random = ECDF(random_out_degrees)\n",
    "x_random = np.unique(random_out_degrees)\n",
    "y_random = cdf_random(x_random)\n",
    " \n",
    "fig_cdf_fb = plt.figure(figsize=(10,5))\n",
    "axes = fig_cdf_fb.gca()\n",
    "axes.set_xscale('log')\n",
    "axes.set_yscale('log')\n",
    "axes.loglog(x,1-y,marker='D',ms=8, linestyle='-', label = \"Ru Net\", color = \"#61CAE2\")\n",
    "axes.loglog(x_random,1-y_random,marker='8',ms=10, linestyle='-', label=\"Random\", color = \"#EA63BD\")\n",
    "axes.legend()\n",
    "axes.set_xlabel('Out-Degree',size=20)\n",
    "axes.set_ylabel('ECCDF', size = 20)\n",
    "plt.savefig(\"Images/OutDegreeDistribution.png\", dpi=1200, bbox_inches='tight')\n",
    "plt.show()"
   ]
  },
  {
   "cell_type": "code",
   "execution_count": 17,
   "metadata": {},
   "outputs": [
    {
     "data": {
      "text/plain": [
       "Text(0, 0.5, 'ECCDF')"
      ]
     },
     "execution_count": 17,
     "metadata": {},
     "output_type": "execute_result"
    },
    {
     "data": {
      "image/png": "[encoded data removed]",
      "text/plain": [
       "<Figure size 720x360 with 1 Axes>"
      ]
     },
     "metadata": {
      "needs_background": "light"
     },
     "output_type": "display_data"
    }
   ],
   "source": [
    "cdf_out = ECDF(out_degrees)\n",
    "x_out = np.unique(out_degrees)\n",
    "y_out = cdf_out(x_out)\n",
    "\n",
    "cdf_in = ECDF(in_degrees)\n",
    "x_in = np.unique(in_degrees)\n",
    "y_in = cdf_in(x_in)\n",
    " \n",
    "fig_cdf_fb = plt.figure(figsize=(10,5))\n",
    "axes = fig_cdf_fb.gca()\n",
    "axes.set_xscale('log')\n",
    "axes.set_yscale('log')\n",
    "axes.loglog(x_out,1-y_out,marker='o',ms=8, linestyle='-', label = \"Out-degree\", color = \"#61CAE2\")\n",
    "axes.loglog(x_in,1-y_in,marker='o',ms=10, linestyle='-', label=\"In-degree\", color = \"#91D2BE\")\n",
    "axes.legend()\n",
    "axes.set_xlabel('In-Out-Degree',size=20)\n",
    "axes.set_ylabel('ECCDF', size = 20)"
   ]
  },
  {
   "cell_type": "markdown",
   "metadata": {},
   "source": [
    "## Connectivity"
   ]
  },
  {
   "cell_type": "code",
   "execution_count": 18,
   "metadata": {},
   "outputs": [
    {
     "data": {
      "text/plain": [
       "(False, False)"
      ]
     },
     "execution_count": 18,
     "metadata": {},
     "output_type": "execute_result"
    }
   ],
   "source": [
    "nx.is_strongly_connected(graph),nx.is_weakly_connected(graph)"
   ]
  },
  {
   "cell_type": "markdown",
   "metadata": {},
   "source": [
    "C'è una giant componenent?"
   ]
  },
  {
   "cell_type": "code",
   "execution_count": 19,
   "metadata": {},
   "outputs": [],
   "source": [
    "components_strong =  nx.strongly_connected_components(graph)\n",
    "components_weak =  nx.weakly_connected_components(graph)\n",
    "\n",
    "component_list_strong = list(components_strong)\n",
    "component_list_weak = list(components_weak)"
   ]
  },
  {
   "cell_type": "markdown",
   "metadata": {},
   "source": [
    "Numero delle componenti connesse:"
   ]
  },
  {
   "cell_type": "code",
   "execution_count": 20,
   "metadata": {},
   "outputs": [
    {
     "data": {
      "text/plain": [
       "22005"
      ]
     },
     "execution_count": 20,
     "metadata": {},
     "output_type": "execute_result"
    }
   ],
   "source": [
    "len(component_list_strong)"
   ]
  },
  {
   "cell_type": "code",
   "execution_count": 21,
   "metadata": {},
   "outputs": [
    {
     "data": {
      "text/plain": [
       "306"
      ]
     },
     "execution_count": 21,
     "metadata": {},
     "output_type": "execute_result"
    }
   ],
   "source": [
    "len(component_list_weak)"
   ]
  },
  {
   "cell_type": "code",
   "execution_count": 22,
   "metadata": {},
   "outputs": [],
   "source": [
    "len_cc = [len(wcc) for wcc in component_list_weak]\n",
    "counts = pd.Series(len_cc).value_counts().sort_index()"
   ]
  },
  {
   "cell_type": "code",
   "execution_count": 23,
   "metadata": {},
   "outputs": [
    {
     "data": {
      "image/png": "[encoded data removed]",
      "text/plain": [
       "<Figure size 576x288 with 1 Axes>"
      ]
     },
     "metadata": {
      "needs_background": "light"
     },
     "output_type": "display_data"
    }
   ],
   "source": [
    "fig_gc = plt.figure(figsize=(8,4))\n",
    "axes = fig_gc.gca()\n",
    "axes.set_xscale('log')\n",
    "axes.set_yscale('log')\n",
    "axes.loglog(counts.index,counts.values,marker='o',ms=8, linestyle='None', color = \"#EA63BD\")\n",
    "axes.set_xlabel('Weakly connected component size',size=20)\n",
    "axes.set_ylabel('Count', size = 20)\n",
    "plt.savefig(\"Images/ConnectedComponents.png\", dpi=1200, bbox_inches='tight')\n",
    "plt.show()"
   ]
  },
  {
   "cell_type": "markdown",
   "metadata": {},
   "source": [
    "## Small World"
   ]
  },
  {
   "cell_type": "code",
   "execution_count": 24,
   "metadata": {},
   "outputs": [],
   "source": [
    "sorted_components = sorted(component_list_weak, key = lambda x : len(x), reverse=True)\n",
    "giant_component = graph.subgraph(sorted_components[0]).to_undirected()\n",
    "# nx.diameter(giant_component)"
   ]
  },
  {
   "cell_type": "markdown",
   "metadata": {},
   "source": [
    "E' 12 il diametro"
   ]
  },
  {
   "cell_type": "markdown",
   "metadata": {},
   "source": [
    "## Transitivity"
   ]
  },
  {
   "cell_type": "code",
   "execution_count": 25,
   "metadata": {},
   "outputs": [],
   "source": [
    "# global_clustering_coeff = nx.transitivity(graph.to_undirected())\n",
    "# print(\"Coefficiente di Clustering globale: {}\".format(global_clustering_coeff))"
   ]
  },
  {
   "cell_type": "markdown",
   "metadata": {},
   "source": [
    "Coefficiente di Clustering globale: 0.0016440739612106675"
   ]
  },
  {
   "cell_type": "code",
   "execution_count": 26,
   "metadata": {},
   "outputs": [],
   "source": [
    "# avg_local_clustering_coeff = nx.average_clustering(graph.to_undirected())\n",
    "# avg_local_clustering_coeff0 = nx.average_clustering(graph.to_undirected(), count_zeros=False)\n",
    "\n",
    "# print('Coefficiente di clustering locale medio: {}'.format(avg_local_clustering_coeff))\n",
    "# print('Coefficiente di clustering locale medio >0 : {}'.format(avg_local_clustering_coeff0))"
   ]
  },
  {
   "cell_type": "markdown",
   "metadata": {},
   "source": [
    "Coefficiente di clustering locale medio: 0.18450772763547055\n",
    "\n",
    "Coefficiente di clustering locale medio >0 : 0.5825613071721611"
   ]
  },
  {
   "cell_type": "markdown",
   "metadata": {},
   "source": [
    "## Reciprocity"
   ]
  },
  {
   "cell_type": "code",
   "execution_count": 27,
   "metadata": {},
   "outputs": [
    {
     "name": "stdout",
     "output_type": "stream",
     "text": [
      "Reciprocità: 0.010263838592860838\n"
     ]
    }
   ],
   "source": [
    "print('Reciprocità: {}'.format(nx.overall_reciprocity(graph)))"
   ]
  },
  {
   "cell_type": "markdown",
   "metadata": {},
   "source": [
    "Very low reciprocity is typical of an information network."
   ]
  },
  {
   "cell_type": "markdown",
   "metadata": {},
   "source": [
    "# Centrality"
   ]
  },
  {
   "cell_type": "code",
   "execution_count": 33,
   "metadata": {},
   "outputs": [],
   "source": [
    "p99_indeg = np.percentile(in_degrees,99.9)\n",
    "influencers_id = [(str(k),v) for k,v in in_degrees_noitems.items() if v>=p99_indeg]"
   ]
  },
  {
   "cell_type": "code",
   "execution_count": 34,
   "metadata": {},
   "outputs": [],
   "source": [
    "bearer_token = json.load(open('application_keys.json'))['twitter']['bearer_token']\n",
    "twitter_api = twitter.Twitter(auth=twitter.OAuth2(bearer_token=bearer_token))"
   ]
  },
  {
   "cell_type": "code",
   "execution_count": 35,
   "metadata": {},
   "outputs": [],
   "source": [
    "in_deg_cen = nx.in_degree_centrality(graph)\n",
    "out_deg_cen =  nx.out_degree_centrality(graph)"
   ]
  },
  {
   "cell_type": "code",
   "execution_count": 37,
   "metadata": {},
   "outputs": [],
   "source": [
    "influencers_username_centrality = [(twitter_api.users.show(user_id=k)['screen_name'],v,\\\n",
    "                                    in_deg_cen[int(k)],out_degrees_dict[int(k)], out_deg_cen[int(k)], dragsUtility.isaDrag(str(k))) for (k,v) in influencers_id]"
   ]
  },
  {
   "cell_type": "code",
   "execution_count": 38,
   "metadata": {},
   "outputs": [],
   "source": [
    "influencers_table = pd.DataFrame(influencers_username_centrality,\\\n",
    "                                 columns=['user','in_degree','in_degree_centrality','out_degree','out_degree_centrality','isaCompetitor'])\n",
    "influencers_table.set_index('user',inplace=True)\n",
    "influencers_table.sort_values(by='in_degree_centrality',inplace=True,ascending=False)"
   ]
  },
  {
   "cell_type": "code",
   "execution_count": 39,
   "metadata": {},
   "outputs": [
    {
     "data": {
      "text/html": [
       "<div>\n",
       "<style scoped>\n",
       "    .dataframe tbody tr th:only-of-type {\n",
       "        vertical-align: middle;\n",
       "    }\n",
       "\n",
       "    .dataframe tbody tr th {\n",
       "        vertical-align: top;\n",
       "    }\n",
       "\n",
       "    .dataframe thead th {\n",
       "        text-align: right;\n",
       "    }\n",
       "</style>\n",
       "<table border=\"1\" class=\"dataframe\">\n",
       "  <thead>\n",
       "    <tr style=\"text-align: right;\">\n",
       "      <th></th>\n",
       "      <th>in_degree</th>\n",
       "      <th>in_degree_centrality</th>\n",
       "      <th>out_degree</th>\n",
       "      <th>out_degree_centrality</th>\n",
       "      <th>isaCompetitor</th>\n",
       "    </tr>\n",
       "    <tr>\n",
       "      <th>user</th>\n",
       "      <th></th>\n",
       "      <th></th>\n",
       "      <th></th>\n",
       "      <th></th>\n",
       "      <th></th>\n",
       "    </tr>\n",
       "  </thead>\n",
       "  <tbody>\n",
       "    <tr>\n",
       "      <th>RuPaulsDragRace</th>\n",
       "      <td>9657</td>\n",
       "      <td>0.306763</td>\n",
       "      <td>41</td>\n",
       "      <td>0.000794</td>\n",
       "      <td>False</td>\n",
       "    </tr>\n",
       "    <tr>\n",
       "      <th>the_symonee</th>\n",
       "      <td>5118</td>\n",
       "      <td>0.175041</td>\n",
       "      <td>1</td>\n",
       "      <td>0.000044</td>\n",
       "      <td>True</td>\n",
       "    </tr>\n",
       "    <tr>\n",
       "      <th>gottmik</th>\n",
       "      <td>3337</td>\n",
       "      <td>0.114826</td>\n",
       "      <td>18</td>\n",
       "      <td>0.000573</td>\n",
       "      <td>True</td>\n",
       "    </tr>\n",
       "    <tr>\n",
       "      <th>TheKandyMuse</th>\n",
       "      <td>3403</td>\n",
       "      <td>0.103842</td>\n",
       "      <td>15</td>\n",
       "      <td>0.000309</td>\n",
       "      <td>True</td>\n",
       "    </tr>\n",
       "    <tr>\n",
       "      <th>denalifox</th>\n",
       "      <td>2604</td>\n",
       "      <td>0.085800</td>\n",
       "      <td>6</td>\n",
       "      <td>0.000221</td>\n",
       "      <td>True</td>\n",
       "    </tr>\n",
       "    <tr>\n",
       "      <th>omgheyrose</th>\n",
       "      <td>1706</td>\n",
       "      <td>0.059023</td>\n",
       "      <td>3</td>\n",
       "      <td>0.000132</td>\n",
       "      <td>True</td>\n",
       "    </tr>\n",
       "    <tr>\n",
       "      <th>MissLaLaRi</th>\n",
       "      <td>953</td>\n",
       "      <td>0.038687</td>\n",
       "      <td>1</td>\n",
       "      <td>0.000044</td>\n",
       "      <td>True</td>\n",
       "    </tr>\n",
       "    <tr>\n",
       "      <th>jaidaehall</th>\n",
       "      <td>924</td>\n",
       "      <td>0.034055</td>\n",
       "      <td>27</td>\n",
       "      <td>0.000750</td>\n",
       "      <td>False</td>\n",
       "    </tr>\n",
       "    <tr>\n",
       "      <th>QueenUtica</th>\n",
       "      <td>924</td>\n",
       "      <td>0.033614</td>\n",
       "      <td>0</td>\n",
       "      <td>0.000000</td>\n",
       "      <td>True</td>\n",
       "    </tr>\n",
       "    <tr>\n",
       "      <th>shantayficagay</th>\n",
       "      <td>792</td>\n",
       "      <td>0.031100</td>\n",
       "      <td>0</td>\n",
       "      <td>0.000000</td>\n",
       "      <td>False</td>\n",
       "    </tr>\n",
       "    <tr>\n",
       "      <th>WorldOfWonder</th>\n",
       "      <td>851</td>\n",
       "      <td>0.028541</td>\n",
       "      <td>81</td>\n",
       "      <td>0.001279</td>\n",
       "      <td>False</td>\n",
       "    </tr>\n",
       "    <tr>\n",
       "      <th>joeynolfi</th>\n",
       "      <td>512</td>\n",
       "      <td>0.019145</td>\n",
       "      <td>0</td>\n",
       "      <td>0.000000</td>\n",
       "      <td>False</td>\n",
       "    </tr>\n",
       "    <tr>\n",
       "      <th>NinaWest</th>\n",
       "      <td>531</td>\n",
       "      <td>0.019013</td>\n",
       "      <td>15</td>\n",
       "      <td>0.000441</td>\n",
       "      <td>False</td>\n",
       "    </tr>\n",
       "    <tr>\n",
       "      <th>TheOliviaLux</th>\n",
       "      <td>482</td>\n",
       "      <td>0.017910</td>\n",
       "      <td>1</td>\n",
       "      <td>0.000044</td>\n",
       "      <td>True</td>\n",
       "    </tr>\n",
       "    <tr>\n",
       "      <th>LoniLove</th>\n",
       "      <td>415</td>\n",
       "      <td>0.015528</td>\n",
       "      <td>6</td>\n",
       "      <td>0.000176</td>\n",
       "      <td>False</td>\n",
       "    </tr>\n",
       "    <tr>\n",
       "      <th>rhymeswithbeg</th>\n",
       "      <td>343</td>\n",
       "      <td>0.015131</td>\n",
       "      <td>1</td>\n",
       "      <td>0.000044</td>\n",
       "      <td>False</td>\n",
       "    </tr>\n",
       "    <tr>\n",
       "      <th>SheaCoulee</th>\n",
       "      <td>357</td>\n",
       "      <td>0.014910</td>\n",
       "      <td>3</td>\n",
       "      <td>0.000132</td>\n",
       "      <td>False</td>\n",
       "    </tr>\n",
       "    <tr>\n",
       "      <th>maxbronner</th>\n",
       "      <td>346</td>\n",
       "      <td>0.014425</td>\n",
       "      <td>0</td>\n",
       "      <td>0.000000</td>\n",
       "      <td>False</td>\n",
       "    </tr>\n",
       "    <tr>\n",
       "      <th>oscarutierre</th>\n",
       "      <td>341</td>\n",
       "      <td>0.014249</td>\n",
       "      <td>0</td>\n",
       "      <td>0.000000</td>\n",
       "      <td>False</td>\n",
       "    </tr>\n",
       "    <tr>\n",
       "      <th>feistyfrank</th>\n",
       "      <td>326</td>\n",
       "      <td>0.013984</td>\n",
       "      <td>9</td>\n",
       "      <td>0.000309</td>\n",
       "      <td>False</td>\n",
       "    </tr>\n",
       "    <tr>\n",
       "      <th>dragliciouz</th>\n",
       "      <td>443</td>\n",
       "      <td>0.012440</td>\n",
       "      <td>1</td>\n",
       "      <td>0.000044</td>\n",
       "      <td>False</td>\n",
       "    </tr>\n",
       "    <tr>\n",
       "      <th>michellevisage</th>\n",
       "      <td>326</td>\n",
       "      <td>0.011778</td>\n",
       "      <td>0</td>\n",
       "      <td>0.000000</td>\n",
       "      <td>False</td>\n",
       "    </tr>\n",
       "    <tr>\n",
       "      <th>RuPaul</th>\n",
       "      <td>306</td>\n",
       "      <td>0.011646</td>\n",
       "      <td>0</td>\n",
       "      <td>0.000000</td>\n",
       "      <td>False</td>\n",
       "    </tr>\n",
       "  </tbody>\n",
       "</table>\n",
       "</div>"
      ],
      "text/plain": [
       "                 in_degree  in_degree_centrality  out_degree  \\\n",
       "user                                                           \n",
       "RuPaulsDragRace       9657              0.306763          41   \n",
       "the_symonee           5118              0.175041           1   \n",
       "gottmik               3337              0.114826          18   \n",
       "TheKandyMuse          3403              0.103842          15   \n",
       "denalifox             2604              0.085800           6   \n",
       "omgheyrose            1706              0.059023           3   \n",
       "MissLaLaRi             953              0.038687           1   \n",
       "jaidaehall             924              0.034055          27   \n",
       "QueenUtica             924              0.033614           0   \n",
       "shantayficagay         792              0.031100           0   \n",
       "WorldOfWonder          851              0.028541          81   \n",
       "joeynolfi              512              0.019145           0   \n",
       "NinaWest               531              0.019013          15   \n",
       "TheOliviaLux           482              0.017910           1   \n",
       "LoniLove               415              0.015528           6   \n",
       "rhymeswithbeg          343              0.015131           1   \n",
       "SheaCoulee             357              0.014910           3   \n",
       "maxbronner             346              0.014425           0   \n",
       "oscarutierre           341              0.014249           0   \n",
       "feistyfrank            326              0.013984           9   \n",
       "dragliciouz            443              0.012440           1   \n",
       "michellevisage         326              0.011778           0   \n",
       "RuPaul                 306              0.011646           0   \n",
       "\n",
       "                 out_degree_centrality  isaCompetitor  \n",
       "user                                                   \n",
       "RuPaulsDragRace               0.000794          False  \n",
       "the_symonee                   0.000044           True  \n",
       "gottmik                       0.000573           True  \n",
       "TheKandyMuse                  0.000309           True  \n",
       "denalifox                     0.000221           True  \n",
       "omgheyrose                    0.000132           True  \n",
       "MissLaLaRi                    0.000044           True  \n",
       "jaidaehall                    0.000750          False  \n",
       "QueenUtica                    0.000000           True  \n",
       "shantayficagay                0.000000          False  \n",
       "WorldOfWonder                 0.001279          False  \n",
       "joeynolfi                     0.000000          False  \n",
       "NinaWest                      0.000441          False  \n",
       "TheOliviaLux                  0.000044           True  \n",
       "LoniLove                      0.000176          False  \n",
       "rhymeswithbeg                 0.000044          False  \n",
       "SheaCoulee                    0.000132          False  \n",
       "maxbronner                    0.000000          False  \n",
       "oscarutierre                  0.000000          False  \n",
       "feistyfrank                   0.000309          False  \n",
       "dragliciouz                   0.000044          False  \n",
       "michellevisage                0.000000          False  \n",
       "RuPaul                        0.000000          False  "
      ]
     },
     "execution_count": 39,
     "metadata": {},
     "output_type": "execute_result"
    }
   ],
   "source": [
    "influencers_table"
   ]
  },
  {
   "cell_type": "code",
   "execution_count": 40,
   "metadata": {},
   "outputs": [],
   "source": [
    "influencers_table.to_csv('toTable/influencers.csv')"
   ]
  },
  {
   "cell_type": "markdown",
   "metadata": {},
   "source": [
    "Tra gli influencer non ci sono tutti i partecipanti"
   ]
  },
  {
   "cell_type": "code",
   "execution_count": 41,
   "metadata": {},
   "outputs": [
    {
     "data": {
      "text/html": [
       "<div>\n",
       "<style scoped>\n",
       "    .dataframe tbody tr th:only-of-type {\n",
       "        vertical-align: middle;\n",
       "    }\n",
       "\n",
       "    .dataframe tbody tr th {\n",
       "        vertical-align: top;\n",
       "    }\n",
       "\n",
       "    .dataframe thead th {\n",
       "        text-align: right;\n",
       "    }\n",
       "</style>\n",
       "<table border=\"1\" class=\"dataframe\">\n",
       "  <thead>\n",
       "    <tr style=\"text-align: right;\">\n",
       "      <th></th>\n",
       "      <th>in_degree</th>\n",
       "      <th>in_degree_centrality</th>\n",
       "      <th>out_degree</th>\n",
       "      <th>out_degree_centrality</th>\n",
       "      <th>isaCompetitor</th>\n",
       "    </tr>\n",
       "    <tr>\n",
       "      <th>user</th>\n",
       "      <th></th>\n",
       "      <th></th>\n",
       "      <th></th>\n",
       "      <th></th>\n",
       "      <th></th>\n",
       "    </tr>\n",
       "  </thead>\n",
       "  <tbody>\n",
       "    <tr>\n",
       "      <th>the_symonee</th>\n",
       "      <td>5118</td>\n",
       "      <td>0.175041</td>\n",
       "      <td>1</td>\n",
       "      <td>0.000044</td>\n",
       "      <td>True</td>\n",
       "    </tr>\n",
       "    <tr>\n",
       "      <th>gottmik</th>\n",
       "      <td>3337</td>\n",
       "      <td>0.114826</td>\n",
       "      <td>18</td>\n",
       "      <td>0.000573</td>\n",
       "      <td>True</td>\n",
       "    </tr>\n",
       "    <tr>\n",
       "      <th>TheKandyMuse</th>\n",
       "      <td>3403</td>\n",
       "      <td>0.103842</td>\n",
       "      <td>15</td>\n",
       "      <td>0.000309</td>\n",
       "      <td>True</td>\n",
       "    </tr>\n",
       "    <tr>\n",
       "      <th>denalifox</th>\n",
       "      <td>2604</td>\n",
       "      <td>0.085800</td>\n",
       "      <td>6</td>\n",
       "      <td>0.000221</td>\n",
       "      <td>True</td>\n",
       "    </tr>\n",
       "    <tr>\n",
       "      <th>omgheyrose</th>\n",
       "      <td>1706</td>\n",
       "      <td>0.059023</td>\n",
       "      <td>3</td>\n",
       "      <td>0.000132</td>\n",
       "      <td>True</td>\n",
       "    </tr>\n",
       "    <tr>\n",
       "      <th>MissLaLaRi</th>\n",
       "      <td>953</td>\n",
       "      <td>0.038687</td>\n",
       "      <td>1</td>\n",
       "      <td>0.000044</td>\n",
       "      <td>True</td>\n",
       "    </tr>\n",
       "    <tr>\n",
       "      <th>QueenUtica</th>\n",
       "      <td>924</td>\n",
       "      <td>0.033614</td>\n",
       "      <td>0</td>\n",
       "      <td>0.000000</td>\n",
       "      <td>True</td>\n",
       "    </tr>\n",
       "    <tr>\n",
       "      <th>TheOliviaLux</th>\n",
       "      <td>482</td>\n",
       "      <td>0.017910</td>\n",
       "      <td>1</td>\n",
       "      <td>0.000044</td>\n",
       "      <td>True</td>\n",
       "    </tr>\n",
       "  </tbody>\n",
       "</table>\n",
       "</div>"
      ],
      "text/plain": [
       "              in_degree  in_degree_centrality  out_degree  \\\n",
       "user                                                        \n",
       "the_symonee        5118              0.175041           1   \n",
       "gottmik            3337              0.114826          18   \n",
       "TheKandyMuse       3403              0.103842          15   \n",
       "denalifox          2604              0.085800           6   \n",
       "omgheyrose         1706              0.059023           3   \n",
       "MissLaLaRi          953              0.038687           1   \n",
       "QueenUtica          924              0.033614           0   \n",
       "TheOliviaLux        482              0.017910           1   \n",
       "\n",
       "              out_degree_centrality  isaCompetitor  \n",
       "user                                                \n",
       "the_symonee                0.000044           True  \n",
       "gottmik                    0.000573           True  \n",
       "TheKandyMuse               0.000309           True  \n",
       "denalifox                  0.000221           True  \n",
       "omgheyrose                 0.000132           True  \n",
       "MissLaLaRi                 0.000044           True  \n",
       "QueenUtica                 0.000000           True  \n",
       "TheOliviaLux               0.000044           True  "
      ]
     },
     "execution_count": 41,
     "metadata": {},
     "output_type": "execute_result"
    }
   ],
   "source": [
    "ranking_by_degree_centrality = influencers_table.loc[influencers_table['isaCompetitor'] == True]\n",
    "ranking_by_degree_centrality"
   ]
  },
  {
   "cell_type": "code",
   "execution_count": 42,
   "metadata": {},
   "outputs": [
    {
     "data": {
      "text/plain": [
       "8"
      ]
     },
     "execution_count": 42,
     "metadata": {},
     "output_type": "execute_result"
    }
   ],
   "source": [
    "len(ranking_by_degree_centrality)"
   ]
  },
  {
   "cell_type": "code",
   "execution_count": 43,
   "metadata": {},
   "outputs": [],
   "source": [
    "contestant_degree = list(filter(lambda x: dragsUtility.isaDrag(str(x[0])),list(in_degrees_noitems.items())))"
   ]
  },
  {
   "cell_type": "code",
   "execution_count": 44,
   "metadata": {},
   "outputs": [],
   "source": [
    "contestant_degree_centrality = [( dragsUtility.getInfoAboutQueenByID(str(k))[\"Name\"] ,v,\\\n",
    "                                    in_deg_cen[int(k)],out_degrees_dict[int(k)], out_deg_cen[int(k)]) for (k,v) in contestant_degree]"
   ]
  },
  {
   "cell_type": "code",
   "execution_count": 45,
   "metadata": {},
   "outputs": [
    {
     "data": {
      "text/html": [
       "<div>\n",
       "<style scoped>\n",
       "    .dataframe tbody tr th:only-of-type {\n",
       "        vertical-align: middle;\n",
       "    }\n",
       "\n",
       "    .dataframe tbody tr th {\n",
       "        vertical-align: top;\n",
       "    }\n",
       "\n",
       "    .dataframe thead th {\n",
       "        text-align: right;\n",
       "    }\n",
       "</style>\n",
       "<table border=\"1\" class=\"dataframe\">\n",
       "  <thead>\n",
       "    <tr style=\"text-align: right;\">\n",
       "      <th></th>\n",
       "      <th>contestant</th>\n",
       "      <th>in_degree</th>\n",
       "      <th>in_degree_centrality</th>\n",
       "      <th>out_degree</th>\n",
       "      <th>out_degree_centrality</th>\n",
       "    </tr>\n",
       "  </thead>\n",
       "  <tbody>\n",
       "    <tr>\n",
       "      <th>2</th>\n",
       "      <td>Symone</td>\n",
       "      <td>5118</td>\n",
       "      <td>0.175041</td>\n",
       "      <td>1</td>\n",
       "      <td>0.000044</td>\n",
       "    </tr>\n",
       "    <tr>\n",
       "      <th>0</th>\n",
       "      <td>Gottmik</td>\n",
       "      <td>3337</td>\n",
       "      <td>0.114826</td>\n",
       "      <td>18</td>\n",
       "      <td>0.000573</td>\n",
       "    </tr>\n",
       "    <tr>\n",
       "      <th>3</th>\n",
       "      <td>Kandy Muse</td>\n",
       "      <td>3403</td>\n",
       "      <td>0.103842</td>\n",
       "      <td>15</td>\n",
       "      <td>0.000309</td>\n",
       "    </tr>\n",
       "    <tr>\n",
       "      <th>1</th>\n",
       "      <td>Denali Foxx</td>\n",
       "      <td>2604</td>\n",
       "      <td>0.085800</td>\n",
       "      <td>6</td>\n",
       "      <td>0.000221</td>\n",
       "    </tr>\n",
       "    <tr>\n",
       "      <th>7</th>\n",
       "      <td>Rosé</td>\n",
       "      <td>1706</td>\n",
       "      <td>0.059023</td>\n",
       "      <td>3</td>\n",
       "      <td>0.000132</td>\n",
       "    </tr>\n",
       "    <tr>\n",
       "      <th>5</th>\n",
       "      <td>LaLa Ri</td>\n",
       "      <td>953</td>\n",
       "      <td>0.038687</td>\n",
       "      <td>1</td>\n",
       "      <td>0.000044</td>\n",
       "    </tr>\n",
       "    <tr>\n",
       "      <th>9</th>\n",
       "      <td>Utica Queen</td>\n",
       "      <td>924</td>\n",
       "      <td>0.033614</td>\n",
       "      <td>0</td>\n",
       "      <td>0.000000</td>\n",
       "    </tr>\n",
       "    <tr>\n",
       "      <th>6</th>\n",
       "      <td>Olivia Lux</td>\n",
       "      <td>482</td>\n",
       "      <td>0.017910</td>\n",
       "      <td>1</td>\n",
       "      <td>0.000044</td>\n",
       "    </tr>\n",
       "    <tr>\n",
       "      <th>4</th>\n",
       "      <td>Tina Burner</td>\n",
       "      <td>233</td>\n",
       "      <td>0.009528</td>\n",
       "      <td>1</td>\n",
       "      <td>0.000044</td>\n",
       "    </tr>\n",
       "    <tr>\n",
       "      <th>12</th>\n",
       "      <td>Kahmora Hall-Iman</td>\n",
       "      <td>85</td>\n",
       "      <td>0.003441</td>\n",
       "      <td>5</td>\n",
       "      <td>0.000221</td>\n",
       "    </tr>\n",
       "    <tr>\n",
       "      <th>10</th>\n",
       "      <td>Joey Jay</td>\n",
       "      <td>54</td>\n",
       "      <td>0.002073</td>\n",
       "      <td>0</td>\n",
       "      <td>0.000000</td>\n",
       "    </tr>\n",
       "    <tr>\n",
       "      <th>11</th>\n",
       "      <td>Tamisha Iman</td>\n",
       "      <td>31</td>\n",
       "      <td>0.001235</td>\n",
       "      <td>0</td>\n",
       "      <td>0.000000</td>\n",
       "    </tr>\n",
       "    <tr>\n",
       "      <th>8</th>\n",
       "      <td>Elliott with 2 Ts</td>\n",
       "      <td>24</td>\n",
       "      <td>0.001059</td>\n",
       "      <td>0</td>\n",
       "      <td>0.000000</td>\n",
       "    </tr>\n",
       "  </tbody>\n",
       "</table>\n",
       "</div>"
      ],
      "text/plain": [
       "           contestant  in_degree  in_degree_centrality  out_degree  \\\n",
       "2              Symone       5118              0.175041           1   \n",
       "0             Gottmik       3337              0.114826          18   \n",
       "3          Kandy Muse       3403              0.103842          15   \n",
       "1         Denali Foxx       2604              0.085800           6   \n",
       "7                Rosé       1706              0.059023           3   \n",
       "5             LaLa Ri        953              0.038687           1   \n",
       "9         Utica Queen        924              0.033614           0   \n",
       "6          Olivia Lux        482              0.017910           1   \n",
       "4         Tina Burner        233              0.009528           1   \n",
       "12  Kahmora Hall-Iman         85              0.003441           5   \n",
       "10           Joey Jay         54              0.002073           0   \n",
       "11       Tamisha Iman         31              0.001235           0   \n",
       "8   Elliott with 2 Ts         24              0.001059           0   \n",
       "\n",
       "    out_degree_centrality  \n",
       "2                0.000044  \n",
       "0                0.000573  \n",
       "3                0.000309  \n",
       "1                0.000221  \n",
       "7                0.000132  \n",
       "5                0.000044  \n",
       "9                0.000000  \n",
       "6                0.000044  \n",
       "4                0.000044  \n",
       "12               0.000221  \n",
       "10               0.000000  \n",
       "11               0.000000  \n",
       "8                0.000000  "
      ]
     },
     "execution_count": 45,
     "metadata": {},
     "output_type": "execute_result"
    }
   ],
   "source": [
    "contestant_degree_table = pd.DataFrame(contestant_degree_centrality,\\\n",
    "                                 columns=['contestant','in_degree','in_degree_centrality','out_degree','out_degree_centrality'])\n",
    "contestant_degree_table.sort_values(by='in_degree_centrality',inplace=True,ascending=False)\n",
    "contestant_degree_table"
   ]
  },
  {
   "cell_type": "code",
   "execution_count": 46,
   "metadata": {},
   "outputs": [],
   "source": [
    "centrality_rankings = {}\n",
    "centrality_rankings['in_degree_centrality'] = list(contestant_degree_table[\"contestant\"])"
   ]
  },
  {
   "cell_type": "markdown",
   "metadata": {},
   "source": [
    "**PageRank**"
   ]
  },
  {
   "cell_type": "code",
   "execution_count": 47,
   "metadata": {},
   "outputs": [],
   "source": [
    "# pagerank = nx.pagerank(graph, alpha=0.9, weight=\"weight\")\n",
    "# pagerank2 = list(filter(lambda x: dragsUtility.isaDrag(str(x[0])), pagerank.items()))\n",
    "# contestant_pagerank = [ (dragsUtility.getInfoAboutQueenByID(str(k))[\"Name\"], v) for (k,v) in pagerank2]"
   ]
  },
  {
   "cell_type": "code",
   "execution_count": 48,
   "metadata": {},
   "outputs": [],
   "source": [
    "# contestant_pagerank = list(sorted( contestant_pagerank,key=lambda x: x[1], reverse=True))\n",
    "# centrality_rankings['pageRank'] = [ k for (k,v) in contestant_pagerank]\n",
    "# centrality_rankings['pageRank']"
   ]
  },
  {
   "cell_type": "markdown",
   "metadata": {},
   "source": [
    "**Betweenness Centrality**"
   ]
  },
  {
   "cell_type": "code",
   "execution_count": 49,
   "metadata": {},
   "outputs": [],
   "source": [
    "# beetweeness = nx.betweenness_centrality(graph, weight=\"weight\")\n",
    "# beetweeness2 = list(filter(lambda x: dragsUtility.isaDrag(str(x[0])), beetweeness.items()))\n",
    "# contestant_beetweeness = [ (dragsUtility.getInfoAboutQueenByID(str(k))[\"Name\"], v) for (k,v) in beetweeness2]"
   ]
  },
  {
   "cell_type": "code",
   "execution_count": 50,
   "metadata": {},
   "outputs": [],
   "source": [
    "# contestant_beetweeness = list(sorted( contestant_beetweeness,key=lambda x: x[1], reverse=True))\n",
    "# centrality_rankings['betweenness_centrality'] = [ k for (k,v) in contestant_beetweeness]\n",
    "# centrality_rankings['betweenness_centrality']"
   ]
  },
  {
   "cell_type": "markdown",
   "metadata": {},
   "source": [
    "**Harmonic Centrality**"
   ]
  },
  {
   "cell_type": "code",
   "execution_count": 51,
   "metadata": {},
   "outputs": [],
   "source": [
    "sources = list(filter(lambda x: dragsUtility.isaDrag(str(x)),list(graph.nodes)))"
   ]
  },
  {
   "cell_type": "code",
   "execution_count": 52,
   "metadata": {},
   "outputs": [],
   "source": [
    "# harmonic = nx.harmonic_centrality(graph, nbunch=sources)\n",
    "# harmonic2 = list(harmonic.items())\n",
    "# contestant_harmonic = [ (dragsUtility.getInfoAboutQueenByID(str(k))[\"Name\"], v) for (k,v) in harmonic2]"
   ]
  },
  {
   "cell_type": "code",
   "execution_count": 53,
   "metadata": {},
   "outputs": [],
   "source": [
    "# contestant_harmonic = list(sorted( contestant_harmonic, key=lambda x: x[1], reverse=True))\n",
    "# centrality_rankings['harmonic_centrality'] = [ k for (k,v) in contestant_harmonic]\n",
    "# centrality_rankings['harmonic_centrality']"
   ]
  },
  {
   "cell_type": "code",
   "execution_count": 54,
   "metadata": {},
   "outputs": [],
   "source": [
    "# harmonic_df = pd.DataFrame(contestant_harmonic, columns=[\"contestant\", \"harmonic_centrality\"])\n",
    "# harmonic_df.to_csv(\"harmonic_final.csv\", index=False)"
   ]
  },
  {
   "cell_type": "code",
   "execution_count": 55,
   "metadata": {},
   "outputs": [],
   "source": [
    "# import json\n",
    "# with open('Data/rankings.json', 'w') as f:\n",
    "#     json.dump(centrality_rankings, f, indent=1)"
   ]
  },
  {
   "cell_type": "code",
   "execution_count": 56,
   "metadata": {},
   "outputs": [
    {
     "data": {
      "text/html": [
       "<div>\n",
       "<style scoped>\n",
       "    .dataframe tbody tr th:only-of-type {\n",
       "        vertical-align: middle;\n",
       "    }\n",
       "\n",
       "    .dataframe tbody tr th {\n",
       "        vertical-align: top;\n",
       "    }\n",
       "\n",
       "    .dataframe thead th {\n",
       "        text-align: right;\n",
       "    }\n",
       "</style>\n",
       "<table border=\"1\" class=\"dataframe\">\n",
       "  <thead>\n",
       "    <tr style=\"text-align: right;\">\n",
       "      <th></th>\n",
       "      <th>real_rank</th>\n",
       "      <th>in_degree_centrality</th>\n",
       "      <th>pageRank</th>\n",
       "      <th>betweenness_centrality</th>\n",
       "      <th>harmonic_centrality</th>\n",
       "    </tr>\n",
       "  </thead>\n",
       "  <tbody>\n",
       "    <tr>\n",
       "      <th>0</th>\n",
       "      <td>Symone</td>\n",
       "      <td>Symone</td>\n",
       "      <td>Denali Foxx</td>\n",
       "      <td>Gottmik</td>\n",
       "      <td>Symone</td>\n",
       "    </tr>\n",
       "    <tr>\n",
       "      <th>1</th>\n",
       "      <td>Kandy Muse</td>\n",
       "      <td>Gottmik</td>\n",
       "      <td>Kandy Muse</td>\n",
       "      <td>Kandy Muse</td>\n",
       "      <td>Kandy Muse</td>\n",
       "    </tr>\n",
       "    <tr>\n",
       "      <th>2</th>\n",
       "      <td>Gottmik</td>\n",
       "      <td>Kandy Muse</td>\n",
       "      <td>Symone</td>\n",
       "      <td>Denali Foxx</td>\n",
       "      <td>Denali Foxx</td>\n",
       "    </tr>\n",
       "    <tr>\n",
       "      <th>3</th>\n",
       "      <td>Rosé</td>\n",
       "      <td>Denali Foxx</td>\n",
       "      <td>Rosé</td>\n",
       "      <td>Rosé</td>\n",
       "      <td>Rosé</td>\n",
       "    </tr>\n",
       "    <tr>\n",
       "      <th>4</th>\n",
       "      <td>Olivia Lux</td>\n",
       "      <td>Rosé</td>\n",
       "      <td>Gottmik</td>\n",
       "      <td>Symone</td>\n",
       "      <td>Gottmik</td>\n",
       "    </tr>\n",
       "    <tr>\n",
       "      <th>5</th>\n",
       "      <td>Utica Queen</td>\n",
       "      <td>LaLa Ri</td>\n",
       "      <td>Utica Queen</td>\n",
       "      <td>LaLa Ri</td>\n",
       "      <td>Utica Queen</td>\n",
       "    </tr>\n",
       "    <tr>\n",
       "      <th>6</th>\n",
       "      <td>Tina Burner</td>\n",
       "      <td>Utica Queen</td>\n",
       "      <td>LaLa Ri</td>\n",
       "      <td>Olivia Lux</td>\n",
       "      <td>LaLa Ri</td>\n",
       "    </tr>\n",
       "    <tr>\n",
       "      <th>7</th>\n",
       "      <td>Denali Foxx</td>\n",
       "      <td>Olivia Lux</td>\n",
       "      <td>Tina Burner</td>\n",
       "      <td>Tina Burner</td>\n",
       "      <td>Tina Burner</td>\n",
       "    </tr>\n",
       "    <tr>\n",
       "      <th>8</th>\n",
       "      <td>Elliott with 2 Ts</td>\n",
       "      <td>Tina Burner</td>\n",
       "      <td>Olivia Lux</td>\n",
       "      <td>Kahmora Hall-Iman</td>\n",
       "      <td>Olivia Lux</td>\n",
       "    </tr>\n",
       "    <tr>\n",
       "      <th>9</th>\n",
       "      <td>LaLa Ri</td>\n",
       "      <td>Kahmora Hall-Iman</td>\n",
       "      <td>Joey Jay</td>\n",
       "      <td>Elliott with 2 Ts</td>\n",
       "      <td>Kahmora Hall-Iman</td>\n",
       "    </tr>\n",
       "    <tr>\n",
       "      <th>10</th>\n",
       "      <td>Tamisha Iman</td>\n",
       "      <td>Joey Jay</td>\n",
       "      <td>Kahmora Hall-Iman</td>\n",
       "      <td>Utica Queen</td>\n",
       "      <td>Joey Jay</td>\n",
       "    </tr>\n",
       "    <tr>\n",
       "      <th>11</th>\n",
       "      <td>Joey Jay</td>\n",
       "      <td>Tamisha Iman</td>\n",
       "      <td>Tamisha Iman</td>\n",
       "      <td>Joey Jay</td>\n",
       "      <td>Tamisha Iman</td>\n",
       "    </tr>\n",
       "    <tr>\n",
       "      <th>12</th>\n",
       "      <td>Kahmora Hall-Iman</td>\n",
       "      <td>Elliott with 2 Ts</td>\n",
       "      <td>Elliott with 2 Ts</td>\n",
       "      <td>Tamisha Iman</td>\n",
       "      <td>Elliott with 2 Ts</td>\n",
       "    </tr>\n",
       "  </tbody>\n",
       "</table>\n",
       "</div>"
      ],
      "text/plain": [
       "            real_rank in_degree_centrality           pageRank  \\\n",
       "0              Symone               Symone        Denali Foxx   \n",
       "1          Kandy Muse              Gottmik         Kandy Muse   \n",
       "2             Gottmik           Kandy Muse             Symone   \n",
       "3                Rosé          Denali Foxx               Rosé   \n",
       "4          Olivia Lux                 Rosé            Gottmik   \n",
       "5         Utica Queen              LaLa Ri        Utica Queen   \n",
       "6         Tina Burner          Utica Queen            LaLa Ri   \n",
       "7         Denali Foxx           Olivia Lux        Tina Burner   \n",
       "8   Elliott with 2 Ts          Tina Burner         Olivia Lux   \n",
       "9             LaLa Ri    Kahmora Hall-Iman           Joey Jay   \n",
       "10       Tamisha Iman             Joey Jay  Kahmora Hall-Iman   \n",
       "11           Joey Jay         Tamisha Iman       Tamisha Iman   \n",
       "12  Kahmora Hall-Iman    Elliott with 2 Ts  Elliott with 2 Ts   \n",
       "\n",
       "   betweenness_centrality harmonic_centrality  \n",
       "0                 Gottmik              Symone  \n",
       "1              Kandy Muse          Kandy Muse  \n",
       "2             Denali Foxx         Denali Foxx  \n",
       "3                    Rosé                Rosé  \n",
       "4                  Symone             Gottmik  \n",
       "5                 LaLa Ri         Utica Queen  \n",
       "6              Olivia Lux             LaLa Ri  \n",
       "7             Tina Burner         Tina Burner  \n",
       "8       Kahmora Hall-Iman          Olivia Lux  \n",
       "9       Elliott with 2 Ts   Kahmora Hall-Iman  \n",
       "10            Utica Queen            Joey Jay  \n",
       "11               Joey Jay        Tamisha Iman  \n",
       "12           Tamisha Iman   Elliott with 2 Ts  "
      ]
     },
     "execution_count": 56,
     "metadata": {},
     "output_type": "execute_result"
    }
   ],
   "source": [
    "centrality_table = pd.read_json('Data/rankings.json')\n",
    "centrality_table[\"real_rank\"] = dragsUtility.getRealRanking()\n",
    "centrality_table = centrality_table[['real_rank', 'in_degree_centrality', 'pageRank', 'betweenness_centrality', 'harmonic_centrality']]\n",
    "\n",
    "centrality_table"
   ]
  },
  {
   "cell_type": "code",
   "execution_count": 58,
   "metadata": {},
   "outputs": [],
   "source": [
    "centrality_table = pd.read_json('Data/rankings.json')\n",
    "centrality_table[\"real_rank\"] = dragsUtility.getRealRanking()\n",
    "centrality_table.to_csv(\"toTable/rankings.csv\")"
   ]
  },
  {
   "cell_type": "markdown",
   "metadata": {},
   "source": [
    "## Distanze delle classifiche"
   ]
  },
  {
   "cell_type": "code",
   "execution_count": 59,
   "metadata": {},
   "outputs": [],
   "source": [
    "def get_distances(rank, real_rank):\n",
    "    tau, p_value = stats.kendalltau(rank, real_rank)\n",
    "    return {\"kendall_tau\": tau, \"hamming\": 1 - (distance.hamming(rank, real_rank))}"
   ]
  },
  {
   "cell_type": "code",
   "execution_count": 60,
   "metadata": {},
   "outputs": [
    {
     "data": {
      "text/plain": [
       "{'in_degree_centrality': {'kendall_tau': -0.025641025641025637,\n",
       "  'hamming': 0.07692307692307687},\n",
       " 'pageRank': {'kendall_tau': -0.15384615384615383,\n",
       "  'hamming': 0.23076923076923073},\n",
       " 'betweenness_centrality': {'kendall_tau': 0.07692307692307691,\n",
       "  'hamming': 0.23076923076923073},\n",
       " 'harmonic_centrality': {'kendall_tau': 0.10256410256410255,\n",
       "  'hamming': 0.3076923076923077},\n",
       " 'DB': {'kendall_tau': 0.12820512820512817, 'hamming': 0.23076923076923073},\n",
       " 'age': {'kendall_tau': -0.10256410256410255, 'hamming': 0.07692307692307687},\n",
       " 'real': {'kendall_tau': 0.9999999999999998, 'hamming': 1.0}}"
      ]
     },
     "execution_count": 60,
     "metadata": {},
     "output_type": "execute_result"
    }
   ],
   "source": [
    "distance_json = {}\n",
    "real_rank = dragsUtility.getRealRanking()\n",
    "distance_json[\"in_degree_centrality\"] = get_distances(list(centrality_table[\"in_degree_centrality\"]), real_rank)\n",
    "distance_json[\"pageRank\"] = get_distances(list(centrality_table[\"pageRank\"]), real_rank)\n",
    "distance_json[\"betweenness_centrality\"] = get_distances(list(centrality_table[\"betweenness_centrality\"]), real_rank)\n",
    "distance_json[\"harmonic_centrality\"] = get_distances(list(centrality_table[\"harmonic_centrality\"]), real_rank)\n",
    "distance_json[\"DB\"] = get_distances(dragsUtility.getDBRanking(), real_rank)\n",
    "distance_json[\"age\"] = get_distances(dragsUtility.getAgeRankig(), real_rank)\n",
    "distance_json[\"real\"] = get_distances(real_rank, real_rank)\n",
    "distance_json"
   ]
  },
  {
   "cell_type": "code",
   "execution_count": 61,
   "metadata": {},
   "outputs": [
    {
     "data": {
      "text/html": [
       "<div>\n",
       "<style scoped>\n",
       "    .dataframe tbody tr th:only-of-type {\n",
       "        vertical-align: middle;\n",
       "    }\n",
       "\n",
       "    .dataframe tbody tr th {\n",
       "        vertical-align: top;\n",
       "    }\n",
       "\n",
       "    .dataframe thead th {\n",
       "        text-align: right;\n",
       "    }\n",
       "</style>\n",
       "<table border=\"1\" class=\"dataframe\">\n",
       "  <thead>\n",
       "    <tr style=\"text-align: right;\">\n",
       "      <th></th>\n",
       "      <th>kendall_tau</th>\n",
       "      <th>hamming</th>\n",
       "    </tr>\n",
       "  </thead>\n",
       "  <tbody>\n",
       "    <tr>\n",
       "      <th>in_degree_centrality</th>\n",
       "      <td>-0.025641</td>\n",
       "      <td>0.076923</td>\n",
       "    </tr>\n",
       "    <tr>\n",
       "      <th>pageRank</th>\n",
       "      <td>-0.153846</td>\n",
       "      <td>0.230769</td>\n",
       "    </tr>\n",
       "    <tr>\n",
       "      <th>betweenness_centrality</th>\n",
       "      <td>0.076923</td>\n",
       "      <td>0.230769</td>\n",
       "    </tr>\n",
       "    <tr>\n",
       "      <th>harmonic_centrality</th>\n",
       "      <td>0.102564</td>\n",
       "      <td>0.307692</td>\n",
       "    </tr>\n",
       "    <tr>\n",
       "      <th>DB</th>\n",
       "      <td>0.128205</td>\n",
       "      <td>0.230769</td>\n",
       "    </tr>\n",
       "    <tr>\n",
       "      <th>age</th>\n",
       "      <td>-0.102564</td>\n",
       "      <td>0.076923</td>\n",
       "    </tr>\n",
       "    <tr>\n",
       "      <th>real</th>\n",
       "      <td>1.000000</td>\n",
       "      <td>1.000000</td>\n",
       "    </tr>\n",
       "  </tbody>\n",
       "</table>\n",
       "</div>"
      ],
      "text/plain": [
       "                        kendall_tau   hamming\n",
       "in_degree_centrality      -0.025641  0.076923\n",
       "pageRank                  -0.153846  0.230769\n",
       "betweenness_centrality     0.076923  0.230769\n",
       "harmonic_centrality        0.102564  0.307692\n",
       "DB                         0.128205  0.230769\n",
       "age                       -0.102564  0.076923\n",
       "real                       1.000000  1.000000"
      ]
     },
     "execution_count": 61,
     "metadata": {},
     "output_type": "execute_result"
    }
   ],
   "source": [
    "distance_table = pd.DataFrame.from_dict(distance_json, orient='index')\n",
    "distance_table"
   ]
  },
  {
   "cell_type": "code",
   "execution_count": 62,
   "metadata": {},
   "outputs": [],
   "source": [
    "distance_table.to_csv(\"toTable/distance.csv\")"
   ]
  },
  {
   "cell_type": "markdown",
   "metadata": {},
   "source": [
    "## Jaccard Similarity"
   ]
  },
  {
   "cell_type": "code",
   "execution_count": 63,
   "metadata": {},
   "outputs": [],
   "source": [
    "def structural_equivalence_jaccard(graph, node1, node2):\n",
    "    neighbourn1, neighbourn2 = set(graph[node1].keys()),set(graph[node2].keys())\n",
    "    union = len(neighbourn1.union(neighbourn2))\n",
    "    inter = len(neighbourn1.intersection(neighbourn2))\n",
    "    return (inter/union) if (union > 0) else 0"
   ]
  },
  {
   "cell_type": "code",
   "execution_count": 64,
   "metadata": {},
   "outputs": [],
   "source": [
    "sources = list(filter(lambda x: dragsUtility.isaDrag(str(x)),list(graph.nodes)))"
   ]
  },
  {
   "cell_type": "code",
   "execution_count": 65,
   "metadata": {},
   "outputs": [],
   "source": [
    "similarity = [ tuple( ([dragsUtility.getInfoAboutQueenByID(str(node1))[\"Name\"]] + [ structural_equivalence_jaccard(graph.to_undirected(), node1, node2) for node2 in sources ] )) \\\n",
    "              for node1 in sources]"
   ]
  },
  {
   "cell_type": "code",
   "execution_count": 66,
   "metadata": {},
   "outputs": [],
   "source": [
    "sources_names = [ dragsUtility.getInfoAboutQueenByID(str(drag))[\"Name\"] for drag in sources]"
   ]
  },
  {
   "cell_type": "code",
   "execution_count": 67,
   "metadata": {},
   "outputs": [],
   "source": [
    "data = pd.DataFrame(similarity, columns= [\"contestant\"] + sources_names)\n",
    "data = data.set_index(\"contestant\")"
   ]
  },
  {
   "cell_type": "code",
   "execution_count": 68,
   "metadata": {},
   "outputs": [
    {
     "data": {
      "image/png": "[encoded data removed]",
      "text/plain": [
       "<Figure size 648x576 with 2 Axes>"
      ]
     },
     "metadata": {
      "needs_background": "light"
     },
     "output_type": "display_data"
    }
   ],
   "source": [
    "fig, ax = plt.subplots(figsize=(9,8)) \n",
    "ax = sns.heatmap(data, center = 0.45)\n",
    "plt.savefig(\"Images/StructuralSimilarity.png\", dpi=1200, bbox_inches='tight')\n",
    "plt.show()"
   ]
  }
 ],
 "metadata": {
  "kernelspec": {
   "display_name": "Python 3",
   "language": "python",
   "name": "python3"
  },
  "language_info": {
   "codemirror_mode": {
    "name": "ipython",
    "version": 3
   },
   "file_extension": ".py",
   "mimetype": "text/x-python",
   "name": "python",
   "nbconvert_exporter": "python",
   "pygments_lexer": "ipython3",
   "version": "3.7.4"
  }
 },
 "nbformat": 4,
 "nbformat_minor": 4
}
